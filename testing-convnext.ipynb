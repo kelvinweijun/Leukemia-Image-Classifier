{
 "cells": [
  {
   "cell_type": "code",
   "execution_count": 1,
   "id": "a75afc0b",
   "metadata": {
    "execution": {
     "iopub.execute_input": "2024-11-24T05:24:38.259503Z",
     "iopub.status.busy": "2024-11-24T05:24:38.257364Z",
     "iopub.status.idle": "2024-11-24T05:25:26.310820Z",
     "shell.execute_reply": "2024-11-24T05:25:26.309095Z"
    },
    "papermill": {
     "duration": 48.059562,
     "end_time": "2024-11-24T05:25:26.313082",
     "exception": false,
     "start_time": "2024-11-24T05:24:38.253520",
     "status": "completed"
    },
    "tags": []
   },
   "outputs": [
    {
     "name": "stdout",
     "output_type": "stream",
     "text": [
      "[1] \"Predicted class: Pre\"\n"
     ]
    }
   ],
   "source": [
    "library(tensorflow)\n",
    "library(keras)\n",
    "\n",
    "# Define class labels\n",
    "class_labels <- c(\"Benign\", \"Early\", \"Pre\", \"Pro\")  # Class names in order\n",
    "\n",
    "# Load the TensorFlow SavedModel\n",
    "model_path <- \"/kaggle/input/convnext_model/tensorflow2/default/1/convnext_model\"  # Replace with your model directory\n",
    "model <- tf$keras$models$load_model(model_path)\n",
    "\n",
    "# Load and preprocess the image\n",
    "image_path <- \"/kaggle/input/testimage/testimage.jpg\"  # Replace with your image path\n",
    "img <- image_load(image_path, target_size = c(224, 224))  # Adjust target_size as needed\n",
    "img_array <- image_to_array(img)\n",
    "img_array <- img_array / 255.0  # Normalize to [0, 1] if required by the model\n",
    "input_array <- array_reshape(img_array, c(1, dim(img_array)))  # Add batch dimension\n",
    "\n",
    "# Make predictions\n",
    "predictions <- model$predict(input_array)\n",
    "\n",
    "# Convert predictions to class index and map to class name\n",
    "predicted_index <- which.max(predictions) - 1  # Subtract 1 if classes are zero-based\n",
    "predicted_class <- class_labels[predicted_index + 1]  # Map index to class name\n",
    "\n",
    "# Print the predicted class (It should predict the correct class of the test image)\n",
    "print(paste(\"Predicted class:\", predicted_class))"
   ]
  }
 ],
 "metadata": {
  "kaggle": {
   "accelerator": "gpu",
   "dataSources": [
    {
     "datasetId": 6136864,
     "sourceId": 9974351,
     "sourceType": "datasetVersion"
    },
    {
     "modelId": 171603,
     "modelInstanceId": 149114,
     "sourceId": 175137,
     "sourceType": "modelInstanceVersion"
    }
   ],
   "dockerImageVersionId": 30749,
   "isGpuEnabled": true,
   "isInternetEnabled": true,
   "language": "r",
   "sourceType": "notebook"
  },
  "kernelspec": {
   "display_name": "R",
   "language": "R",
   "name": "ir"
  },
  "language_info": {
   "codemirror_mode": "r",
   "file_extension": ".r",
   "mimetype": "text/x-r-source",
   "name": "R",
   "pygments_lexer": "r",
   "version": "4.4.0"
  },
  "papermill": {
   "default_parameters": {},
   "duration": 51.967254,
   "end_time": "2024-11-24T05:25:27.640190",
   "environment_variables": {},
   "exception": null,
   "input_path": "__notebook__.ipynb",
   "output_path": "__notebook__.ipynb",
   "parameters": {},
   "start_time": "2024-11-24T05:24:35.672936",
   "version": "2.6.0"
  }
 },
 "nbformat": 4,
 "nbformat_minor": 5
}

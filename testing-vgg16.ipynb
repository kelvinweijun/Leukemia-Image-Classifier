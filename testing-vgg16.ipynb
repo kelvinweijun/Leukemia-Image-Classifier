{
 "cells": [
  {
   "cell_type": "code",
   "execution_count": 1,
   "id": "fc61b32a",
   "metadata": {
    "_execution_state": "idle",
    "_uuid": "051d70d956493feee0c6d64651c6a088724dca2a",
    "execution": {
     "iopub.execute_input": "2024-11-24T08:55:57.367897Z",
     "iopub.status.busy": "2024-11-24T08:55:57.365398Z",
     "iopub.status.idle": "2024-11-24T08:57:03.403980Z",
     "shell.execute_reply": "2024-11-24T08:57:03.400892Z"
    },
    "papermill": {
     "duration": 66.052714,
     "end_time": "2024-11-24T08:57:03.413479",
     "exception": false,
     "start_time": "2024-11-24T08:55:57.360765",
     "status": "completed"
    },
    "tags": []
   },
   "outputs": [
    {
     "name": "stdout",
     "output_type": "stream",
     "text": [
      "[1] \"Pre\"\n"
     ]
    },
    {
     "name": "stdout",
     "output_type": "stream",
     "text": [
      "             [,1]         [,2]     [,3]         [,4]\n",
      "[1,] 0.0003423059 4.841854e-05 0.999554 5.528906e-05\n"
     ]
    }
   ],
   "source": [
    "library(keras)\n",
    "library(tensorflow)\n",
    "\n",
    "model <- load_model_hdf5(\"/kaggle/input/vgg16/keras/default/1/vgg16_model.h5\")\n",
    "\n",
    "\n",
    "# Prediction function\n",
    "predict_image <- function(model, image_path) {\n",
    "  img <- image_load(image_path, target_size = c(224, 224))\n",
    "  img_array <- image_to_array(img)\n",
    "  img_array <- array_reshape(img_array, c(1, dim(img_array)))\n",
    "  img_array <- img_array / 255.0\n",
    "  \n",
    "  prediction <- predict(model, img_array)\n",
    "  classes <- c(\"Benign\", \"Early\", \"Pre\", \"Pro\")\n",
    "  predicted_class_index <- which.max(prediction)\n",
    "  predicted_class <- classes[predicted_class_index]\n",
    "  \n",
    "  list(\n",
    "    probabilities = prediction,\n",
    "    predicted_class = predicted_class\n",
    "  )\n",
    "}\n",
    "\n",
    "# Example usage. (It should predict the correct class of the test image)\n",
    "result <- predict_image(model, \"/kaggle/input/testimage/testimage.jpg\")\n",
    "print(result$predicted_class)\n",
    "print(result$probabilities)"
   ]
  }
 ],
 "metadata": {
  "kaggle": {
   "accelerator": "none",
   "dataSources": [
    {
     "datasetId": 6136864,
     "sourceId": 9974351,
     "sourceType": "datasetVersion"
    },
    {
     "isSourceIdPinned": true,
     "modelId": 170812,
     "modelInstanceId": 148304,
     "sourceId": 174206,
     "sourceType": "modelInstanceVersion"
    }
   ],
   "isGpuEnabled": false,
   "isInternetEnabled": true,
   "language": "r",
   "sourceType": "notebook"
  },
  "kernelspec": {
   "display_name": "R",
   "language": "R",
   "name": "ir"
  },
  "language_info": {
   "codemirror_mode": "r",
   "file_extension": ".r",
   "mimetype": "text/x-r-source",
   "name": "R",
   "pygments_lexer": "r",
   "version": "4.4.0"
  },
  "papermill": {
   "default_parameters": {},
   "duration": 70.4256,
   "end_time": "2024-11-24T08:57:04.450167",
   "environment_variables": {},
   "exception": null,
   "input_path": "__notebook__.ipynb",
   "output_path": "__notebook__.ipynb",
   "parameters": {},
   "start_time": "2024-11-24T08:55:54.024567",
   "version": "2.6.0"
  }
 },
 "nbformat": 4,
 "nbformat_minor": 5
}

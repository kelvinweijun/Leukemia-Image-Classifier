{
 "cells": [
  {
   "cell_type": "code",
   "execution_count": 1,
   "id": "b896f954",
   "metadata": {
    "_execution_state": "idle",
    "_uuid": "051d70d956493feee0c6d64651c6a088724dca2a",
    "execution": {
     "iopub.execute_input": "2024-11-24T08:54:35.180645Z",
     "iopub.status.busy": "2024-11-24T08:54:35.178472Z",
     "iopub.status.idle": "2024-11-24T08:55:37.536294Z",
     "shell.execute_reply": "2024-11-24T08:55:37.534010Z"
    },
    "papermill": {
     "duration": 62.364629,
     "end_time": "2024-11-24T08:55:37.539256",
     "exception": false,
     "start_time": "2024-11-24T08:54:35.174627",
     "status": "completed"
    },
    "tags": []
   },
   "outputs": [
    {
     "name": "stdout",
     "output_type": "stream",
     "text": [
      "[1] \"Pre\"\n"
     ]
    },
    {
     "name": "stdout",
     "output_type": "stream",
     "text": [
      "             [,1]         [,2]      [,3]         [,4]\n",
      "[1,] 4.719397e-06 1.440614e-07 0.9999949 1.808929e-07\n"
     ]
    }
   ],
   "source": [
    "library(keras)\n",
    "library(tensorflow)\n",
    "\n",
    "model <- load_model_hdf5(\"/kaggle/input/densenet201/keras/default/1/densenet201_model.h5\")\n",
    "\n",
    "\n",
    "# Prediction function\n",
    "predict_image <- function(model, image_path) {\n",
    "  img <- image_load(image_path, target_size = c(224, 224))\n",
    "  img_array <- image_to_array(img)\n",
    "  img_array <- array_reshape(img_array, c(1, dim(img_array)))\n",
    "  img_array <- img_array / 255.0\n",
    "  \n",
    "  prediction <- predict(model, img_array)\n",
    "  classes <- c(\"Benign\", \"Early\", \"Pre\", \"Pro\")\n",
    "  predicted_class_index <- which.max(prediction)\n",
    "  predicted_class <- classes[predicted_class_index]\n",
    "  \n",
    "  list(\n",
    "    probabilities = prediction,\n",
    "    predicted_class = predicted_class\n",
    "  )\n",
    "}\n",
    "\n",
    "# Example usage. (It should predict the correct class of the test image)\n",
    "result <- predict_image(model, \"/kaggle/input/testimage/testimage.jpg\")\n",
    "print(result$predicted_class)\n",
    "print(result$probabilities)"
   ]
  }
 ],
 "metadata": {
  "kaggle": {
   "accelerator": "none",
   "dataSources": [
    {
     "datasetId": 6136864,
     "sourceId": 9974351,
     "sourceType": "datasetVersion"
    },
    {
     "modelId": 170770,
     "modelInstanceId": 148261,
     "sourceId": 174160,
     "sourceType": "modelInstanceVersion"
    }
   ],
   "dockerImageVersionId": 30749,
   "isGpuEnabled": false,
   "isInternetEnabled": true,
   "language": "r",
   "sourceType": "notebook"
  },
  "kernelspec": {
   "display_name": "R",
   "language": "R",
   "name": "ir"
  },
  "language_info": {
   "codemirror_mode": "r",
   "file_extension": ".r",
   "mimetype": "text/x-r-source",
   "name": "R",
   "pygments_lexer": "r",
   "version": "4.4.0"
  },
  "papermill": {
   "default_parameters": {},
   "duration": 66.202147,
   "end_time": "2024-11-24T08:55:38.266790",
   "environment_variables": {},
   "exception": null,
   "input_path": "__notebook__.ipynb",
   "output_path": "__notebook__.ipynb",
   "parameters": {},
   "start_time": "2024-11-24T08:54:32.064643",
   "version": "2.6.0"
  }
 },
 "nbformat": 4,
 "nbformat_minor": 5
}

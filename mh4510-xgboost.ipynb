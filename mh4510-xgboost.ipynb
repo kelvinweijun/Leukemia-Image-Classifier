{
 "cells": [
  {
   "cell_type": "code",
   "execution_count": 1,
   "id": "1887a19b",
   "metadata": {
    "_execution_state": "idle",
    "_uuid": "051d70d956493feee0c6d64651c6a088724dca2a",
    "execution": {
     "iopub.execute_input": "2024-11-19T14:58:40.871473Z",
     "iopub.status.busy": "2024-11-19T14:58:40.868621Z",
     "iopub.status.idle": "2024-11-19T15:02:00.014669Z",
     "shell.execute_reply": "2024-11-19T15:02:00.012202Z"
    },
    "papermill": {
     "duration": 199.1555,
     "end_time": "2024-11-19T15:02:00.017737",
     "exception": false,
     "start_time": "2024-11-19T14:58:40.862237",
     "status": "completed"
    },
    "tags": []
   },
   "outputs": [
    {
     "name": "stderr",
     "output_type": "stream",
     "text": [
      "Loading required package: ggplot2\n",
      "\n"
     ]
    },
    {
     "name": "stderr",
     "output_type": "stream",
     "text": [
      "Loading required package: lattice\n",
      "\n"
     ]
    },
    {
     "name": "stderr",
     "output_type": "stream",
     "text": [
      "\n",
      "Attaching package: ‘caret’\n",
      "\n",
      "\n"
     ]
    },
    {
     "name": "stderr",
     "output_type": "stream",
     "text": [
      "The following object is masked from ‘package:httr’:\n",
      "\n",
      "    progress\n",
      "\n",
      "\n"
     ]
    },
    {
     "name": "stderr",
     "output_type": "stream",
     "text": [
      "\n",
      "Attaching package: ‘dplyr’\n",
      "\n",
      "\n"
     ]
    },
    {
     "name": "stderr",
     "output_type": "stream",
     "text": [
      "The following object is masked from ‘package:xgboost’:\n",
      "\n",
      "    slice\n",
      "\n",
      "\n"
     ]
    },
    {
     "name": "stderr",
     "output_type": "stream",
     "text": [
      "The following objects are masked from ‘package:stats’:\n",
      "\n",
      "    filter, lag\n",
      "\n",
      "\n"
     ]
    },
    {
     "name": "stderr",
     "output_type": "stream",
     "text": [
      "The following objects are masked from ‘package:base’:\n",
      "\n",
      "    intersect, setdiff, setequal, union\n",
      "\n",
      "\n"
     ]
    },
    {
     "name": "stderr",
     "output_type": "stream",
     "text": [
      "Loading required package: magrittr\n",
      "\n"
     ]
    },
    {
     "name": "stderr",
     "output_type": "stream",
     "text": [
      "\n",
      "Attaching package: ‘imager’\n",
      "\n",
      "\n"
     ]
    },
    {
     "name": "stderr",
     "output_type": "stream",
     "text": [
      "The following object is masked from ‘package:magrittr’:\n",
      "\n",
      "    add\n",
      "\n",
      "\n"
     ]
    },
    {
     "name": "stderr",
     "output_type": "stream",
     "text": [
      "The following object is masked from ‘package:dplyr’:\n",
      "\n",
      "    where\n",
      "\n",
      "\n"
     ]
    },
    {
     "name": "stderr",
     "output_type": "stream",
     "text": [
      "The following objects are masked from ‘package:stats’:\n",
      "\n",
      "    convolve, spectrum\n",
      "\n",
      "\n"
     ]
    },
    {
     "name": "stderr",
     "output_type": "stream",
     "text": [
      "The following object is masked from ‘package:graphics’:\n",
      "\n",
      "    frame\n",
      "\n",
      "\n"
     ]
    },
    {
     "name": "stderr",
     "output_type": "stream",
     "text": [
      "The following object is masked from ‘package:base’:\n",
      "\n",
      "    save.image\n",
      "\n",
      "\n"
     ]
    },
    {
     "name": "stderr",
     "output_type": "stream",
     "text": [
      "\n",
      "Attaching package: ‘EBImage’\n",
      "\n",
      "\n"
     ]
    },
    {
     "name": "stderr",
     "output_type": "stream",
     "text": [
      "The following objects are masked from ‘package:imager’:\n",
      "\n",
      "    channel, dilate, display, erode, resize, watershed\n",
      "\n",
      "\n"
     ]
    },
    {
     "name": "stdout",
     "output_type": "stream",
     "text": [
      "\n",
      "Class distribution in training dataset:\n"
     ]
    },
    {
     "name": "stdout",
     "output_type": "stream",
     "text": [
      "\n",
      "Benign  Early    Pre    Pro \n",
      "   323    631    617    515 \n"
     ]
    },
    {
     "name": "stdout",
     "output_type": "stream",
     "text": [
      "\n",
      "Final Class Weights (based on training dataset):\n"
     ]
    },
    {
     "name": "stdout",
     "output_type": "stream",
     "text": [
      "$`0`\n",
      "[1] 1.614551\n",
      "\n",
      "$`1`\n",
      "[1] 0.8264659\n",
      "\n",
      "$`2`\n",
      "[1] 0.8452188\n",
      "\n",
      "$`3`\n",
      "[1] 1.012621\n",
      "\n"
     ]
    },
    {
     "name": "stdout",
     "output_type": "stream",
     "text": [
      "\n",
      "Validation:\n"
     ]
    },
    {
     "name": "stdout",
     "output_type": "stream",
     "text": [
      "Total samples in training dataset: 2086 \n"
     ]
    },
    {
     "name": "stdout",
     "output_type": "stream",
     "text": [
      "Sum of class counts: 2086 \n"
     ]
    },
    {
     "name": "stdout",
     "output_type": "stream",
     "text": [
      "Number of classes: 4 \n"
     ]
    },
    {
     "name": "stdout",
     "output_type": "stream",
     "text": [
      "Maximum weight ratio: 1.95356 \n",
      "\n"
     ]
    },
    {
     "name": "stdout",
     "output_type": "stream",
     "text": [
      "Verification of weight calculation:\n"
     ]
    },
    {
     "name": "stdout",
     "output_type": "stream",
     "text": [
      "Benign: count=323, weight=1.6146, count*weight=521.5000\n",
      "Early: count=631, weight=0.8265, count*weight=521.5000\n",
      "Pre: count=617, weight=0.8452, count*weight=521.5000\n",
      "Pro: count=515, weight=1.0126, count*weight=521.5000\n"
     ]
    },
    {
     "name": "stdout",
     "output_type": "stream",
     "text": [
      "Analyzing features from 1000 training images...\n"
     ]
    },
    {
     "name": "stderr",
     "output_type": "stream",
     "text": [
      "Warning message in get_feature_params(train_df$image_filename, sample_size):\n",
      "“Inconsistent feature lengths detected in training data!”\n"
     ]
    },
    {
     "name": "stdout",
     "output_type": "stream",
     "text": [
      "feature_lengths\n",
      " 50  51  52  53  54  55  56  57  58  59  60  61  62  63  64  65  66  67  68  69 \n",
      "  2   7  25  49  53  38  46  26  28  19  15  51 218 206  34  22  12   1   1 106 \n",
      " 70  71 \n",
      " 39   2 \n",
      "   Min. 1st Qu.  Median    Mean 3rd Qu.    Max. \n",
      "  50.00   58.00   62.00   61.33   63.00   71.00 \n",
      "\n",
      "Feature extraction analysis summary:\n",
      "Modal feature length: 62 \n",
      "Success rate: 100.00% \n",
      "Length consistency: Inconsistent \n",
      "\n",
      "Feature length distribution:\n",
      "feature_lengths\n",
      " 50  51  52  53  54  55  56  57  58  59  60  61  62  63  64  65  66  67  68  69 \n",
      "  2   7  25  49  53  38  46  26  28  19  15  51 218 206  34  22  12   1   1 106 \n",
      " 70  71 \n",
      " 39   2 \n"
     ]
    },
    {
     "name": "stdout",
     "output_type": "stream",
     "text": [
      "\n",
      "Extracting training features...\n"
     ]
    },
    {
     "name": "stdout",
     "output_type": "stream",
     "text": [
      "Processing training image 100 of 2086\n",
      "Processing training image 200 of 2086\n",
      "Processing training image 300 of 2086\n",
      "Processing training image 400 of 2086\n",
      "Processing training image 500 of 2086\n",
      "Processing training image 600 of 2086\n",
      "Processing training image 700 of 2086\n",
      "Processing training image 800 of 2086\n",
      "Processing training image 900 of 2086\n",
      "Processing training image 1000 of 2086\n",
      "Processing training image 1100 of 2086\n",
      "Processing training image 1200 of 2086\n",
      "Processing training image 1300 of 2086\n",
      "Processing training image 1400 of 2086\n",
      "Processing training image 1500 of 2086\n",
      "Processing training image 1600 of 2086\n",
      "Processing training image 1700 of 2086\n",
      "Processing training image 1800 of 2086\n",
      "Processing training image 1900 of 2086\n",
      "Processing training image 2000 of 2086\n",
      "\n",
      "NA counts in training dataset:\n",
      "feature_51 feature_52 feature_53 feature_54 feature_55 feature_56 feature_57 \n",
      "         3         13         58        162        272        373        460 \n",
      "feature_58 feature_59 feature_60 feature_61 feature_62 \n",
      "       514        563        606        647        743 \n"
     ]
    },
    {
     "name": "stdout",
     "output_type": "stream",
     "text": [
      "\n",
      "Extracting validation features...\n"
     ]
    },
    {
     "name": "stdout",
     "output_type": "stream",
     "text": [
      "Processing validation image 100 of 652\n",
      "Processing validation image 200 of 652\n",
      "Processing validation image 300 of 652\n",
      "Processing validation image 400 of 652\n",
      "Processing validation image 500 of 652\n",
      "Processing validation image 600 of 652\n",
      "\n",
      "NA counts in validation dataset:\n",
      "feature_51 feature_52 feature_53 feature_54 feature_55 feature_56 feature_57 \n",
      "         1          4         15         59         86        120        142 \n",
      "feature_58 feature_59 feature_60 feature_61 feature_62 \n",
      "       158        171        186        199        220 \n"
     ]
    },
    {
     "name": "stdout",
     "output_type": "stream",
     "text": [
      "\n",
      "Extracting test features...\n"
     ]
    },
    {
     "name": "stdout",
     "output_type": "stream",
     "text": [
      "Processing test image 100 of 518\n",
      "Processing test image 200 of 518\n",
      "Processing test image 300 of 518\n",
      "Processing test image 400 of 518\n",
      "Processing test image 500 of 518\n",
      "\n",
      "NA counts in test dataset:\n",
      "feature_52 feature_53 feature_54 feature_55 feature_56 feature_57 feature_58 \n",
      "         1          9         26         58         82        101        117 \n",
      "feature_59 feature_60 feature_61 feature_62 \n",
      "       121        130        138        169 \n"
     ]
    },
    {
     "name": "stdout",
     "output_type": "stream",
     "text": [
      "Features removed due to near-zero variance:\n"
     ]
    },
    {
     "name": "stdout",
     "output_type": "stream",
     "text": [
      "'data.frame':\t2086 obs. of  62 variables:\n",
      " $ feature_1 : num  1.78e-04 1.33e-04 4.44e-05 2.67e-04 4.44e-05 ...\n",
      " $ feature_2 : num  9.20e-03 8.89e-05 0.00 5.33e-04 8.89e-05 ...\n",
      " $ feature_3 : num  2.93e-02 1.33e-04 0.00 1.51e-03 4.44e-05 ...\n",
      " $ feature_4 : num  3.35e-02 8.89e-05 4.44e-05 4.71e-03 3.11e-04 ...\n",
      " $ feature_5 : num  3.16e-02 1.78e-04 8.89e-05 1.34e-02 5.33e-03 ...\n",
      " $ feature_6 : num  3.04e-02 2.36e-03 4.44e-05 6.04e-02 3.43e-02 ...\n",
      " $ feature_7 : num  2.82e-02 4.67e-03 8.89e-05 1.81e-01 1.46e-01 ...\n",
      " $ feature_8 : num  2.76e-02 1.20e-02 4.44e-05 2.04e-01 1.47e-01 ...\n",
      " $ feature_9 : num  0.023022 0.043333 0.000978 0.1372 0.072533 ...\n",
      " $ feature_10: num  0.0225 0.0687 0.0144 0.0884 0.0597 ...\n",
      " $ feature_11: num  0.0243 0.138 0.055 0.068 0.0721 ...\n",
      " $ feature_12: num  0.027 0.117 0.0738 0.0779 0.1145 ...\n",
      " $ feature_13: num  0.0565 0.0708 0.0882 0.1634 0.1958 ...\n",
      " $ feature_14: num  2.48e-01 7.47e-02 9.41e-02 8.89e-05 1.52e-01 ...\n",
      " $ feature_15: num  4.09e-01 1.03e-01 7.18e-02 4.44e-05 4.44e-05 ...\n",
      " $ feature_16: num  2.22e-04 1.73e-01 7.88e-02 2.67e-04 4.44e-05 ...\n",
      " $ feature_17: num  0.001778 0.191956 0.522667 0.000756 0.000222 ...\n",
      " $ feature_18: num  3.56e-03 4.44e-05 4.44e-05 1.87e-03 4.53e-03 ...\n",
      " $ feature_19: num  0.006533 0.000178 0 0.004311 0.016622 ...\n",
      " $ feature_20: num  0.01782 0 0 0.00929 0.01244 ...\n",
      " $ feature_21: num  3.30e-02 2.67e-04 4.44e-05 2.07e-02 1.96e-02 ...\n",
      " $ feature_22: num  3.57e-02 1.24e-03 8.89e-05 5.22e-02 6.04e-02 ...\n",
      " $ feature_23: num  3.31e-02 4.58e-03 8.89e-05 1.08e-01 1.22e-01 ...\n",
      " $ feature_24: num  0.0303 0.0105 0.0004 0.1651 0.1301 ...\n",
      " $ feature_25: num  0.02631 0.03124 0.00151 0.15476 0.08929 ...\n",
      " $ feature_26: num  0.02636 0.02596 0.00516 0.11 0.08578 ...\n",
      " $ feature_27: num  0.02711 0.02102 0.00791 0.08107 0.10227 ...\n",
      " $ feature_28: num  0.0355 0.0217 0.0194 0.069 0.3568 ...\n",
      " $ feature_29: num  7.03e-02 4.14e-02 5.42e-02 2.22e-01 4.44e-05 ...\n",
      " $ feature_30: num  6.52e-01 8.98e-02 9.01e-02 4.44e-05 0.00 ...\n",
      " $ feature_31: num  4.44e-05 1.09e-01 9.50e-02 4.44e-05 8.89e-05 ...\n",
      " $ feature_32: num  4.44e-05 8.49e-02 8.45e-02 8.89e-05 4.44e-05 ...\n",
      " $ feature_33: num  8.89e-05 7.12e-02 8.90e-02 8.89e-05 8.89e-05 ...\n",
      " $ feature_34: num  4.44e-05 9.73e-02 5.53e-01 1.78e-04 4.44e-05 ...\n",
      " $ feature_35: num  8.89e-05 3.90e-01 4.44e-05 8.89e-05 4.44e-05 ...\n",
      " $ feature_36: num  0.00 4.44e-05 0.00 5.78e-04 2.67e-04 ...\n",
      " $ feature_37: num  1.96e-03 0.00 4.44e-05 1.55e-02 6.67e-04 ...\n",
      " $ feature_38: num  1.67e-02 8.89e-05 0.00 1.57e-01 1.10e-02 ...\n",
      " $ feature_39: num  4.70e-02 4.44e-05 8.89e-05 2.48e-01 1.11e-01 ...\n",
      " $ feature_40: num  7.39e-02 8.89e-05 4.44e-05 1.80e-01 2.06e-01 ...\n",
      " $ feature_41: num  8.51e-02 4.44e-05 8.89e-05 2.73e-01 1.15e-01 ...\n",
      " $ feature_42: num  0.240533 0.000133 0 0.124133 0.555822 ...\n",
      " $ feature_43: num  5.13e-01 8.89e-05 0.00 1.28e-02 1.41e-02 ...\n",
      " $ feature_44: num  0.021378 0.000444 0 0.139606 -0.360766 ...\n",
      " $ feature_45: num  0.02406 0.010667 0.000178 -0.925475 -1.184829 ...\n",
      " $ feature_46: num  -1.454022 0.100933 0.000133 0.811285 0.848871 ...\n",
      " $ feature_47: num  0.657622 0.144889 0.000756 0.113079 0.118915 ...\n",
      " $ feature_48: num  0.879 0.109 0.016 0.996 0.997 ...\n",
      " $ feature_49: num  0.155 0.634 0.114 0.383 0.418 ...\n",
      " $ feature_50: num  0.991 0.0181 0.2556 0.036 0.0276 ...\n",
      " $ feature_51: num  0.3899 -0.6919 0.6129 0.0286 0.0278 ...\n",
      " $ feature_52: num  2.76e-02 -4.67e-01 9.28e-03 2.25e+04 2.25e+04 ...\n",
      " $ feature_53: num  0.0415 0.8467 -0.9 598 596 ...\n",
      " $ feature_54: num  4363.2 0.135 -0.311 0.789 0.796 ...\n",
      " $ feature_55: num  137 0.998 0.914 0 0 ...\n",
      " $ feature_56: num  5.9679 0.2123 0.0963 0 0 ...\n",
      " $ feature_57: num  0 0.0262 1 0 0 ...\n",
      " $ feature_58: num  0 0.0289 0.1967 0 0 ...\n",
      " $ feature_59: num  0.00 2.23e+04 2.92e-02 0.00 0.00 ...\n",
      " $ feature_60: num  0 607 0.0318 0 0 ...\n",
      " $ feature_61: num  0.00 7.62e-01 2.25e+04 0.00 0.00 ...\n",
      " $ feature_62: num  0 0 596 0 0 ...\n"
     ]
    }
   ],
   "source": [
    "# Load necessary libraries\n",
    "library(xgboost)\n",
    "library(caret)\n",
    "library(dplyr)\n",
    "library(imager)\n",
    "library(EBImage)  # For bwlabel and shape feature extraction\n",
    "library(ggplot2)\n",
    "library(e1071)  # For skewness and kurtosis\n",
    "\n",
    "# Set the path to your dataset\n",
    "data_dir <- \"/kaggle/input/leukemia-images/Original\"\n",
    "\n",
    "# Define image size and parameters\n",
    "img_height <- 150\n",
    "img_width <- 150\n",
    "batch_size <- 32  # Note: batch_size is defined but not used in the code\n",
    "\n",
    "# Create a list to hold all file paths and corresponding labels\n",
    "file_paths <- character()  # More explicit initialization\n",
    "class_labels <- character()\n",
    "\n",
    "# Loop through each class to gather file paths and labels\n",
    "for (class in c(\"Benign\", \"Early\", \"Pre\", \"Pro\")) {\n",
    "  class_path <- file.path(data_dir, class)\n",
    "  \n",
    "  # Add error handling for directory access\n",
    "  if (!dir.exists(class_path)) {\n",
    "    stop(paste(\"Directory not found:\", class_path))\n",
    "  }\n",
    "  \n",
    "  files <- list.files(class_path, full.names = TRUE, pattern = \"\\\\.(?i)(jpg|jpeg|png|tiff)$\")\n",
    "  \n",
    "  # Ensure files are unique\n",
    "  unique_files <- unique(files)\n",
    "  \n",
    "  file_paths <- c(file_paths, unique_files)\n",
    "  class_labels <- c(class_labels, rep(class, length(unique_files)))\n",
    "}\n",
    "\n",
    "# Create a DataFrame with only the required structure\n",
    "full_df <- data.frame(\n",
    "  image_filename = file_paths,\n",
    "  class = factor(class_labels, levels = c(\"Benign\", \"Early\", \"Pre\", \"Pro\")),\n",
    "  stringsAsFactors = FALSE\n",
    ")\n",
    "\n",
    "# Define class-to-index mapping\n",
    "classes <- c(\"Benign\", \"Early\", \"Pre\", \"Pro\")\n",
    "class_to_index <- setNames(0:(length(classes) - 1), classes)\n",
    "\n",
    "# Add numeric class column (0-based indexing)\n",
    "full_df$class_numeric <- as.numeric(full_df$class) - 1\n",
    "\n",
    "# Stratified split into training (64%), validation (20%), and test (16%) sets\n",
    "set.seed(123)\n",
    "trainIndex <- createDataPartition(full_df$class, p = 0.64, list = FALSE)\n",
    "train_df <- full_df[trainIndex, ]\n",
    "remaining_df <- full_df[-trainIndex, ]\n",
    "\n",
    "# Shuffle only train_df\n",
    "train_df <- train_df[sample(nrow(train_df)), ]\n",
    "\n",
    "validationIndex <- createDataPartition(remaining_df$class, p = 20/36, list = FALSE)\n",
    "val_df <- remaining_df[validationIndex, ]\n",
    "test_df <- remaining_df[-validationIndex, ]\n",
    "\n",
    "# Calculate class weights using only the training dataset\n",
    "n_samples <- nrow(train_df)  \n",
    "n_classes <- length(unique(train_df$class))\n",
    "\n",
    "# Get class frequencies from training dataset\n",
    "class_counts <- table(train_df$class_numeric)\n",
    "\n",
    "# Calculate balanced weights\n",
    "class_weights <- n_samples / (n_classes * class_counts)\n",
    "\n",
    "# Convert to a named list with numeric indices as names\n",
    "class_weights <- as.list(class_weights)\n",
    "names(class_weights) <- as.character(0:(n_classes-1))\n",
    "\n",
    "# Print diagnostics\n",
    "cat(\"\\nClass distribution in training dataset:\\n\")\n",
    "print(table(train_df$class))\n",
    "\n",
    "cat(\"\\nFinal Class Weights (based on training dataset):\\n\")\n",
    "print(class_weights)\n",
    "\n",
    "# Validation steps\n",
    "cat(\"\\nValidation:\\n\")\n",
    "cat(\"Total samples in training dataset:\", n_samples, \"\\n\")\n",
    "cat(\"Sum of class counts:\", sum(class_counts), \"\\n\")\n",
    "cat(\"Number of classes:\", n_classes, \"\\n\")\n",
    "cat(\"Maximum weight ratio:\", max(unlist(class_weights)) / min(unlist(class_weights)), \"\\n\\n\")\n",
    "\n",
    "# Additional validation checks\n",
    "cat(\"Verification of weight calculation:\\n\")\n",
    "for(i in 0:(n_classes-1)) {\n",
    "  class_name <- classes[i+1]\n",
    "  weight <- class_weights[[as.character(i)]]\n",
    "  count <- class_counts[as.character(i)]\n",
    "  cat(sprintf(\"%s: count=%d, weight=%.4f, count*weight=%.4f\\n\", \n",
    "              class_name, count, weight, count*weight))\n",
    "}\n",
    "\n",
    "# Features extraction function \n",
    "extract_features <- function(image_path, bins = 16, feature_params = NULL) {\n",
    "  # Load and resize the image using imager\n",
    "  image <- load.image(image_path)\n",
    "  image <- resize(image, img_width, img_height)\n",
    "  \n",
    "  # Convert image to array and split into color channels\n",
    "  red_channel <- as.vector(image[,,1,1])\n",
    "  green_channel <- as.vector(image[,,1,2])\n",
    "  blue_channel <- as.vector(image[,,1,3])\n",
    "  \n",
    "  # Color histogram features for each channel\n",
    "  red_hist <- hist(red_channel, breaks = bins, plot = FALSE)$counts / length(red_channel)\n",
    "  green_hist <- hist(green_channel, breaks = bins, plot = FALSE)$counts / length(green_channel)\n",
    "  blue_hist <- hist(blue_channel, breaks = bins, plot = FALSE)$counts / length(blue_channel)\n",
    "  \n",
    "  # Convert to grayscale for texture and edge features\n",
    "  gray_image <- 0.299 * red_channel + 0.587 * green_channel + 0.114 * blue_channel\n",
    "  \n",
    "  # Texture features: contrast, skewness, and kurtosis\n",
    "  contrast <- var(gray_image)\n",
    "  skewness <- e1071::skewness(gray_image)\n",
    "  kurtosis <- e1071::kurtosis(gray_image)\n",
    "  \n",
    "  # Statistical descriptors\n",
    "  mean_intensity <- mean(gray_image)\n",
    "  sd_intensity <- sd(gray_image)\n",
    "  max_intensity <- max(gray_image)\n",
    "  min_intensity <- min(gray_image)\n",
    "  \n",
    "  # Edge detection using gradient magnitude approximation (Sobel-like)\n",
    "  gray_img_cimg <- as.cimg(gray_image, x = img_width, y = img_height)\n",
    "  grad_x <- imgradient(gray_img_cimg, \"x\")\n",
    "  grad_y <- imgradient(gray_img_cimg, \"y\")\n",
    "  edge_magnitude <- sqrt(grad_x^2 + grad_y^2)  # Approximate edge strength\n",
    "  edge_intensity_mean <- mean(edge_magnitude)\n",
    "  edge_intensity_sd <- sd(edge_magnitude)\n",
    "  \n",
    "  # Shape features using segmentation (using EBImage)\n",
    "  gray_img_matrix <- matrix(gray_image, nrow = img_height, ncol = img_width)\n",
    "  binary_image <- gray_img_matrix > 0.5  # Apply threshold to get binary mask\n",
    "  binary_image <- as.Image(binary_image)  # Convert to EBImage object\n",
    "  \n",
    "  # Label the binary image\n",
    "  labeled_image <- bwlabel(binary_image)\n",
    "  \n",
    "  # Compute shape features\n",
    "  shape_features <- computeFeatures.shape(labeled_image)\n",
    "  \n",
    "  # Shape descriptors - Mean values of area, perimeter, and circularity\n",
    "  area_mean <- mean(shape_features[,\"s.area\"], na.rm = TRUE)\n",
    "  perimeter_mean <- mean(shape_features[,\"s.perimeter\"], na.rm = TRUE)\n",
    "  circularity_mean <- mean((4 * pi * shape_features[,\"s.area\"]) / (shape_features[,\"s.perimeter\"]^2), na.rm = TRUE)\n",
    "  \n",
    "  # Combine all features into a single vector\n",
    "  feature_vector <- c(red_hist, green_hist, blue_hist, contrast, skewness, kurtosis, \n",
    "                      mean_intensity, sd_intensity, max_intensity, min_intensity,\n",
    "                      edge_intensity_mean, edge_intensity_sd,\n",
    "                      area_mean, perimeter_mean, circularity_mean)\n",
    "  \n",
    "  return(feature_vector)\n",
    "}\n",
    "\n",
    "# Function to analyze feature lengths across training data\n",
    "get_feature_params <- function(train_image_paths, sample_size = NULL) {\n",
    "  # If sample_size is provided, randomly sample images for efficiency\n",
    "  if (!is.null(sample_size) && sample_size < length(train_image_paths)) {\n",
    "    set.seed(123)  # for reproducibility\n",
    "    image_paths <- sample(train_image_paths, sample_size)\n",
    "  } else {\n",
    "    image_paths <- train_image_paths\n",
    "  }\n",
    "  \n",
    "  cat(\"Analyzing features from\", length(image_paths), \"training images...\\n\")\n",
    "  \n",
    "  # Extract features from all training images and analyze\n",
    "  feature_lengths <- sapply(image_paths, function(path) {\n",
    "    tryCatch({\n",
    "      features <- extract_features(path)\n",
    "      length(features)\n",
    "    }, error = function(e) {\n",
    "      warning(sprintf(\"Error processing image %s: %s\", path, e$message))\n",
    "      return(NA)\n",
    "    })\n",
    "  })\n",
    "  \n",
    "  # Analyze feature length distribution\n",
    "  length_summary <- summary(feature_lengths)\n",
    "  length_table <- table(feature_lengths)\n",
    "  \n",
    "  # Check for inconsistencies\n",
    "  if (length(unique(feature_lengths[!is.na(feature_lengths)])) > 1) {\n",
    "    warning(\"Inconsistent feature lengths detected in training data!\")\n",
    "    print(length_table)\n",
    "    print(length_summary)\n",
    "  }\n",
    "  \n",
    "  # Get most common feature length (mode)\n",
    "  modal_length <- as.numeric(names(length_table)[which.max(length_table)])\n",
    "  \n",
    "  # Get feature names from a successful extraction\n",
    "  sample_features <- NULL\n",
    "  for (path in image_paths) {\n",
    "    tryCatch({\n",
    "      sample_features <- extract_features(path)\n",
    "      if (length(sample_features) == modal_length) break\n",
    "    }, error = function(e) {\n",
    "      next\n",
    "    })\n",
    "  }\n",
    "  \n",
    "  params <- list(\n",
    "    feature_length = modal_length,\n",
    "    feature_names = paste0(\"feature_\", seq_len(modal_length)),\n",
    "    length_distribution = length_table,\n",
    "    length_summary = length_summary,\n",
    "    sample_size = length(image_paths),\n",
    "    success_rate = sum(!is.na(feature_lengths)) / length(feature_lengths),\n",
    "    consistent_length = length(unique(feature_lengths[!is.na(feature_lengths)])) == 1\n",
    "  )\n",
    "  \n",
    "  # Print summary\n",
    "  cat(\"\\nFeature extraction analysis summary:\\n\")\n",
    "  cat(\"Modal feature length:\", params$feature_length, \"\\n\")\n",
    "  cat(\"Success rate:\", sprintf(\"%.2f%%\", params$success_rate * 100), \"\\n\")\n",
    "  cat(\"Length consistency:\", ifelse(params$consistent_length, \"Consistent\", \"Inconsistent\"), \"\\n\")\n",
    "  \n",
    "  if (!params$consistent_length) {\n",
    "    cat(\"\\nFeature length distribution:\\n\")\n",
    "    print(params$length_distribution)\n",
    "  }\n",
    "  \n",
    "  return(params)\n",
    "}\n",
    "\n",
    "# Modified feature extraction pipeline\n",
    "set.seed(123)  # for reproducibility\n",
    "\n",
    "# Step 1: Get feature parameters from training data\n",
    "# Option to sample if training set is very large\n",
    "sample_size <- if(nrow(train_df) > 1000) 1000 else NULL\n",
    "feature_params <- get_feature_params(train_df$image_filename, sample_size)\n",
    "\n",
    "# Enhanced feature extraction function with validation\n",
    "extract_and_validate_features <- function(image_paths, feature_params, dataset_name) {\n",
    "  features_list <- lapply(seq_along(image_paths), function(i) {\n",
    "    path <- image_paths[i]\n",
    "    \n",
    "    if (i %% 100 == 0) {\n",
    "      cat(sprintf(\"Processing %s image %d of %d\\n\", \n",
    "                 dataset_name, i, length(image_paths)))\n",
    "    }\n",
    "    \n",
    "    tryCatch({\n",
    "      features <- extract_features(path)\n",
    "      \n",
    "      # Validate feature length\n",
    "      if (length(features) != feature_params$feature_length) {\n",
    "        \n",
    "        # Handle inconsistent length\n",
    "        if (length(features) < feature_params$feature_length) {\n",
    "          # Pad with NA if shorter\n",
    "          features <- c(features, rep(NA, feature_params$feature_length - length(features)))\n",
    "        } else {\n",
    "          # Truncate if longer\n",
    "          features <- features[1:feature_params$feature_length]\n",
    "        }\n",
    "      }\n",
    "      \n",
    "      return(features)\n",
    "      \n",
    "    }, error = function(e) {\n",
    "      warning(sprintf(\"Error processing %s image %s: %s\", \n",
    "                     dataset_name, path, e$message))\n",
    "      return(rep(NA, feature_params$feature_length))\n",
    "    })\n",
    "  })\n",
    "  \n",
    "  # Convert to matrix/data frame\n",
    "  features_matrix <- do.call(rbind, features_list)\n",
    "  colnames(features_matrix) <- feature_params$feature_names\n",
    "  \n",
    "  # Report statistics about NA values\n",
    "  na_counts <- colSums(is.na(features_matrix))\n",
    "  if (any(na_counts > 0)) {\n",
    "    cat(\"\\nNA counts in\", dataset_name, \"dataset:\\n\")\n",
    "    print(na_counts[na_counts > 0])\n",
    "  }\n",
    "  \n",
    "  return(features_matrix)\n",
    "}\n",
    "\n",
    "# Extract features for each dataset\n",
    "cat(\"\\nExtracting training features...\\n\")\n",
    "train_features <- extract_and_validate_features(\n",
    "  train_df$image_filename, \n",
    "  feature_params,\n",
    "  \"training\"\n",
    ")\n",
    "\n",
    "cat(\"\\nExtracting validation features...\\n\")\n",
    "val_features <- extract_and_validate_features(\n",
    "  val_df$image_filename, \n",
    "  feature_params,\n",
    "  \"validation\"\n",
    ")\n",
    "\n",
    "cat(\"\\nExtracting test features...\\n\")\n",
    "test_features <- extract_and_validate_features(\n",
    "  test_df$image_filename, \n",
    "  feature_params,\n",
    "  \"test\"\n",
    ")\n",
    "\n",
    "# Ensure that class labels are factors with consistent levels\n",
    "train_df$class <- factor(train_df$class, levels = c(\"Benign\", \"Early\", \"Pre\", \"Pro\"))\n",
    "test_df$class <- factor(test_df$class, levels = c(\"Benign\", \"Early\", \"Pre\", \"Pro\"))\n",
    "val_df$class <- factor(val_df$class, levels = c(\"Benign\", \"Early\", \"Pre\", \"Pro\"))\n",
    "\n",
    "train_data <- cbind(as.data.frame(train_features), class_numeric = train_df$class_numeric)\n",
    "validation_data <- cbind(as.data.frame(val_features), class_numeric = val_df$class_numeric)\n",
    "test_data <- cbind(as.data.frame(test_features), class_numeric = test_df$class_numeric)\n",
    "\n",
    "train_data[is.na(train_data)] <- 0\n",
    "validation_data[is.na(validation_data)] <- 0\n",
    "test_data[is.na(test_data)] <- 0\n",
    "\n",
    "# Convert class_numeric to factor with proper labels for training and testing\n",
    "train_data$class <- factor(train_data$class_numeric, \n",
    "                                levels = 0:3, \n",
    "                                labels = classes)\n",
    "validation_data$class <- factor(validation_data$class_numeric, \n",
    "                                     levels = 0:3, \n",
    "                                     labels = classes)\n",
    "test_data$class <- factor(test_data$class_numeric, \n",
    "                                levels = 0:3, \n",
    "                                labels = classes)\n",
    "\n",
    "library(caret)\n",
    "library(e1071)\n",
    "\n",
    "\n",
    "# Function to identify NZV features from training data\n",
    "identify_nzv_features <- function(train_data) {\n",
    "  nzv <- nearZeroVar(train_data, saveMetrics = TRUE)\n",
    "  nzv_features <- rownames(nzv)[nzv$zeroVar | nzv$nzv]\n",
    "  \n",
    "  # Log the features being removed and their properties\n",
    "  cat(\"Features removed due to near-zero variance:\\n\")\n",
    "  for(feature in nzv_features) {\n",
    "    cat(sprintf(\"Feature: %s, Variance: %.6f\\n\", \n",
    "                feature, \n",
    "                var(train_data[[feature]], na.rm = TRUE)))\n",
    "  }\n",
    "  \n",
    "  return(nzv_features)\n",
    "}\n",
    "\n",
    "# Function to check for differences in feature variance between datasets\n",
    "check_feature_variance <- function(train_data, val_data, test_data, nzv_features) {\n",
    "  warning_features <- list()\n",
    "  \n",
    "  for(feature in nzv_features) {\n",
    "    if(feature %in% names(val_data) && feature %in% names(test_data)) {\n",
    "      train_var <- var(train_data[[feature]], na.rm = TRUE)\n",
    "      val_var <- var(val_data[[feature]], na.rm = TRUE)\n",
    "      test_var <- var(test_data[[feature]], na.rm = TRUE)\n",
    "      \n",
    "      # Check if feature has significant variance in validation or test\n",
    "      if(val_var > 0.1 || test_var > 0.1) {  # Threshold can be adjusted\n",
    "        warning_features[[feature]] <- list(\n",
    "          train_variance = train_var,\n",
    "          val_variance = val_var,\n",
    "          test_variance = test_var\n",
    "        )\n",
    "      }\n",
    "    }\n",
    "  }\n",
    "  \n",
    "  return(warning_features)\n",
    "}\n",
    "\n",
    "# Apply the fixed NZV filtering process\n",
    "# First, identify NZV features from training data only\n",
    "nzv_features <- identify_nzv_features(train_data[, -ncol(train_data)])\n",
    "\n",
    "# Check for potential issues in validation and test sets\n",
    "variance_warnings <- check_feature_variance(\n",
    "  train_data[, -ncol(train_data)],\n",
    "  validation_data[, -ncol(validation_data)],\n",
    "  test_data[, -ncol(test_data)],\n",
    "  nzv_features\n",
    ")\n",
    "\n",
    "# Print warnings if any features show different behavior in val/test\n",
    "if(length(variance_warnings) > 0) {\n",
    "  cat(\"\\nWARNING: Some features show different variance patterns in validation/test sets:\\n\")\n",
    "  print(variance_warnings)\n",
    "  cat(\"\\nConsider keeping these features in the model.\\n\")\n",
    "}\n",
    "\n",
    "# Remove NZV features and 'class_numeric' from all datasets\n",
    "train_data_filtered <- train_data[, !names(train_data) %in% c(nzv_features, \"class_numeric\", \"class\")]\n",
    "validation_data_filtered <- validation_data[, !names(validation_data) %in% c(nzv_features, \"class_numeric\", \"class\")]\n",
    "test_data_filtered <- test_data[, !names(test_data) %in% c(nzv_features, \"class_numeric\", \"class\")]\n",
    "\n",
    "# Ensure 'class_numeric' is preserved separately for labels\n",
    "train_labels <- train_data$class_numeric\n",
    "validation_labels <- validation_data$class_numeric\n",
    "test_labels <- test_data$class_numeric\n",
    "\n",
    "# Ensure the label vector is preserved separately\n",
    "train_labels <- train_data$class_numeric\n",
    "validation_labels <- validation_data$class_numeric\n",
    "test_labels <- test_data$class_numeric\n",
    "\n",
    "str(train_data_filtered)"
   ]
  },
  {
   "cell_type": "code",
   "execution_count": 2,
   "id": "d604037a",
   "metadata": {
    "execution": {
     "iopub.execute_input": "2024-11-19T15:02:00.076466Z",
     "iopub.status.busy": "2024-11-19T15:02:00.045151Z",
     "iopub.status.idle": "2024-11-19T15:02:00.235841Z",
     "shell.execute_reply": "2024-11-19T15:02:00.233991Z"
    },
    "papermill": {
     "duration": 0.215584,
     "end_time": "2024-11-19T15:02:00.238359",
     "exception": false,
     "start_time": "2024-11-19T15:02:00.022775",
     "status": "completed"
    },
    "tags": []
   },
   "outputs": [
    {
     "data": {
      "text/html": [
       "<table class=\"dataframe\">\n",
       "<caption>A data.frame: 6 × 62</caption>\n",
       "<thead>\n",
       "\t<tr><th></th><th scope=col>feature_1</th><th scope=col>feature_2</th><th scope=col>feature_3</th><th scope=col>feature_4</th><th scope=col>feature_5</th><th scope=col>feature_6</th><th scope=col>feature_7</th><th scope=col>feature_8</th><th scope=col>feature_9</th><th scope=col>feature_10</th><th scope=col>⋯</th><th scope=col>feature_53</th><th scope=col>feature_54</th><th scope=col>feature_55</th><th scope=col>feature_56</th><th scope=col>feature_57</th><th scope=col>feature_58</th><th scope=col>feature_59</th><th scope=col>feature_60</th><th scope=col>feature_61</th><th scope=col>feature_62</th></tr>\n",
       "\t<tr><th></th><th scope=col>&lt;dbl&gt;</th><th scope=col>&lt;dbl&gt;</th><th scope=col>&lt;dbl&gt;</th><th scope=col>&lt;dbl&gt;</th><th scope=col>&lt;dbl&gt;</th><th scope=col>&lt;dbl&gt;</th><th scope=col>&lt;dbl&gt;</th><th scope=col>&lt;dbl&gt;</th><th scope=col>&lt;dbl&gt;</th><th scope=col>&lt;dbl&gt;</th><th scope=col>⋯</th><th scope=col>&lt;dbl&gt;</th><th scope=col>&lt;dbl&gt;</th><th scope=col>&lt;dbl&gt;</th><th scope=col>&lt;dbl&gt;</th><th scope=col>&lt;dbl&gt;</th><th scope=col>&lt;dbl&gt;</th><th scope=col>&lt;dbl&gt;</th><th scope=col>&lt;dbl&gt;</th><th scope=col>&lt;dbl&gt;</th><th scope=col>&lt;dbl&gt;</th></tr>\n",
       "</thead>\n",
       "<tbody>\n",
       "\t<tr><th scope=row>1</th><td>1.777778e-04</td><td>9.200000e-03</td><td>2.928889e-02</td><td>3.346667e-02</td><td>3.160000e-02</td><td>3.035556e-02</td><td>2.817778e-02</td><td>2.760000e-02</td><td>0.0230222222</td><td>0.022533333</td><td>⋯</td><td>  0.04149962</td><td>4363.2000000</td><td>137.00000000</td><td>5.96785310</td><td>0.00000000</td><td>0.00000000</td><td>0.000000e+00</td><td>0.000000e+00</td><td>0.000000e+00</td><td>  0.0000000</td></tr>\n",
       "\t<tr><th scope=row>2</th><td>1.333333e-04</td><td>8.888889e-05</td><td>1.333333e-04</td><td>8.888889e-05</td><td>1.777778e-04</td><td>2.355556e-03</td><td>4.666667e-03</td><td>1.200000e-02</td><td>0.0433333333</td><td>0.068711111</td><td>⋯</td><td>  0.84667133</td><td>   0.1346286</td><td>  0.99796863</td><td>0.21231420</td><td>0.02622837</td><td>0.02886068</td><td>2.233100e+04</td><td>6.070000e+02</td><td>7.616241e-01</td><td>  0.0000000</td></tr>\n",
       "\t<tr><th scope=row>3</th><td>4.444444e-05</td><td>0.000000e+00</td><td>0.000000e+00</td><td>4.444444e-05</td><td>8.888889e-05</td><td>4.444444e-05</td><td>8.888889e-05</td><td>4.444444e-05</td><td>0.0009777778</td><td>0.014355556</td><td>⋯</td><td> -0.89997674</td><td>  -0.3108987</td><td>  0.91405783</td><td>0.09632424</td><td>1.00000000</td><td>0.19667728</td><td>2.920255e-02</td><td>3.177244e-02</td><td>2.249300e+04</td><td>596.0000000</td></tr>\n",
       "\t<tr><th scope=row>4</th><td>2.666667e-04</td><td>5.333333e-04</td><td>1.511111e-03</td><td>4.711111e-03</td><td>1.337778e-02</td><td>6.035556e-02</td><td>1.806667e-01</td><td>2.037333e-01</td><td>0.1372000000</td><td>0.088400000</td><td>⋯</td><td>598.00000000</td><td>   0.7892548</td><td>  0.00000000</td><td>0.00000000</td><td>0.00000000</td><td>0.00000000</td><td>0.000000e+00</td><td>0.000000e+00</td><td>0.000000e+00</td><td>  0.0000000</td></tr>\n",
       "\t<tr><th scope=row>5</th><td>4.444444e-05</td><td>8.888889e-05</td><td>4.444444e-05</td><td>3.111111e-04</td><td>5.333333e-03</td><td>3.426667e-02</td><td>1.457333e-01</td><td>1.473778e-01</td><td>0.0725333333</td><td>0.059733333</td><td>⋯</td><td>596.00000000</td><td>   0.7957989</td><td>  0.00000000</td><td>0.00000000</td><td>0.00000000</td><td>0.00000000</td><td>0.000000e+00</td><td>0.000000e+00</td><td>0.000000e+00</td><td>  0.0000000</td></tr>\n",
       "\t<tr><th scope=row>6</th><td>4.444444e-05</td><td>0.000000e+00</td><td>0.000000e+00</td><td>4.444444e-05</td><td>8.888889e-05</td><td>4.444444e-05</td><td>8.888889e-05</td><td>0.000000e+00</td><td>0.0004000000</td><td>0.007688889</td><td>⋯</td><td> -0.01839539</td><td>   0.9149045</td><td>  0.09230061</td><td>1.00000000</td><td>0.19919756</td><td>0.02809956</td><td>2.992068e-02</td><td>2.249300e+04</td><td>5.960000e+02</td><td>  0.7957282</td></tr>\n",
       "</tbody>\n",
       "</table>\n"
      ],
      "text/latex": [
       "A data.frame: 6 × 62\n",
       "\\begin{tabular}{r|lllllllllllllllllllll}\n",
       "  & feature\\_1 & feature\\_2 & feature\\_3 & feature\\_4 & feature\\_5 & feature\\_6 & feature\\_7 & feature\\_8 & feature\\_9 & feature\\_10 & ⋯ & feature\\_53 & feature\\_54 & feature\\_55 & feature\\_56 & feature\\_57 & feature\\_58 & feature\\_59 & feature\\_60 & feature\\_61 & feature\\_62\\\\\n",
       "  & <dbl> & <dbl> & <dbl> & <dbl> & <dbl> & <dbl> & <dbl> & <dbl> & <dbl> & <dbl> & ⋯ & <dbl> & <dbl> & <dbl> & <dbl> & <dbl> & <dbl> & <dbl> & <dbl> & <dbl> & <dbl>\\\\\n",
       "\\hline\n",
       "\t1 & 1.777778e-04 & 9.200000e-03 & 2.928889e-02 & 3.346667e-02 & 3.160000e-02 & 3.035556e-02 & 2.817778e-02 & 2.760000e-02 & 0.0230222222 & 0.022533333 & ⋯ &   0.04149962 & 4363.2000000 & 137.00000000 & 5.96785310 & 0.00000000 & 0.00000000 & 0.000000e+00 & 0.000000e+00 & 0.000000e+00 &   0.0000000\\\\\n",
       "\t2 & 1.333333e-04 & 8.888889e-05 & 1.333333e-04 & 8.888889e-05 & 1.777778e-04 & 2.355556e-03 & 4.666667e-03 & 1.200000e-02 & 0.0433333333 & 0.068711111 & ⋯ &   0.84667133 &    0.1346286 &   0.99796863 & 0.21231420 & 0.02622837 & 0.02886068 & 2.233100e+04 & 6.070000e+02 & 7.616241e-01 &   0.0000000\\\\\n",
       "\t3 & 4.444444e-05 & 0.000000e+00 & 0.000000e+00 & 4.444444e-05 & 8.888889e-05 & 4.444444e-05 & 8.888889e-05 & 4.444444e-05 & 0.0009777778 & 0.014355556 & ⋯ &  -0.89997674 &   -0.3108987 &   0.91405783 & 0.09632424 & 1.00000000 & 0.19667728 & 2.920255e-02 & 3.177244e-02 & 2.249300e+04 & 596.0000000\\\\\n",
       "\t4 & 2.666667e-04 & 5.333333e-04 & 1.511111e-03 & 4.711111e-03 & 1.337778e-02 & 6.035556e-02 & 1.806667e-01 & 2.037333e-01 & 0.1372000000 & 0.088400000 & ⋯ & 598.00000000 &    0.7892548 &   0.00000000 & 0.00000000 & 0.00000000 & 0.00000000 & 0.000000e+00 & 0.000000e+00 & 0.000000e+00 &   0.0000000\\\\\n",
       "\t5 & 4.444444e-05 & 8.888889e-05 & 4.444444e-05 & 3.111111e-04 & 5.333333e-03 & 3.426667e-02 & 1.457333e-01 & 1.473778e-01 & 0.0725333333 & 0.059733333 & ⋯ & 596.00000000 &    0.7957989 &   0.00000000 & 0.00000000 & 0.00000000 & 0.00000000 & 0.000000e+00 & 0.000000e+00 & 0.000000e+00 &   0.0000000\\\\\n",
       "\t6 & 4.444444e-05 & 0.000000e+00 & 0.000000e+00 & 4.444444e-05 & 8.888889e-05 & 4.444444e-05 & 8.888889e-05 & 0.000000e+00 & 0.0004000000 & 0.007688889 & ⋯ &  -0.01839539 &    0.9149045 &   0.09230061 & 1.00000000 & 0.19919756 & 0.02809956 & 2.992068e-02 & 2.249300e+04 & 5.960000e+02 &   0.7957282\\\\\n",
       "\\end{tabular}\n"
      ],
      "text/markdown": [
       "\n",
       "A data.frame: 6 × 62\n",
       "\n",
       "| <!--/--> | feature_1 &lt;dbl&gt; | feature_2 &lt;dbl&gt; | feature_3 &lt;dbl&gt; | feature_4 &lt;dbl&gt; | feature_5 &lt;dbl&gt; | feature_6 &lt;dbl&gt; | feature_7 &lt;dbl&gt; | feature_8 &lt;dbl&gt; | feature_9 &lt;dbl&gt; | feature_10 &lt;dbl&gt; | ⋯ ⋯ | feature_53 &lt;dbl&gt; | feature_54 &lt;dbl&gt; | feature_55 &lt;dbl&gt; | feature_56 &lt;dbl&gt; | feature_57 &lt;dbl&gt; | feature_58 &lt;dbl&gt; | feature_59 &lt;dbl&gt; | feature_60 &lt;dbl&gt; | feature_61 &lt;dbl&gt; | feature_62 &lt;dbl&gt; |\n",
       "|---|---|---|---|---|---|---|---|---|---|---|---|---|---|---|---|---|---|---|---|---|---|\n",
       "| 1 | 1.777778e-04 | 9.200000e-03 | 2.928889e-02 | 3.346667e-02 | 3.160000e-02 | 3.035556e-02 | 2.817778e-02 | 2.760000e-02 | 0.0230222222 | 0.022533333 | ⋯ |   0.04149962 | 4363.2000000 | 137.00000000 | 5.96785310 | 0.00000000 | 0.00000000 | 0.000000e+00 | 0.000000e+00 | 0.000000e+00 |   0.0000000 |\n",
       "| 2 | 1.333333e-04 | 8.888889e-05 | 1.333333e-04 | 8.888889e-05 | 1.777778e-04 | 2.355556e-03 | 4.666667e-03 | 1.200000e-02 | 0.0433333333 | 0.068711111 | ⋯ |   0.84667133 |    0.1346286 |   0.99796863 | 0.21231420 | 0.02622837 | 0.02886068 | 2.233100e+04 | 6.070000e+02 | 7.616241e-01 |   0.0000000 |\n",
       "| 3 | 4.444444e-05 | 0.000000e+00 | 0.000000e+00 | 4.444444e-05 | 8.888889e-05 | 4.444444e-05 | 8.888889e-05 | 4.444444e-05 | 0.0009777778 | 0.014355556 | ⋯ |  -0.89997674 |   -0.3108987 |   0.91405783 | 0.09632424 | 1.00000000 | 0.19667728 | 2.920255e-02 | 3.177244e-02 | 2.249300e+04 | 596.0000000 |\n",
       "| 4 | 2.666667e-04 | 5.333333e-04 | 1.511111e-03 | 4.711111e-03 | 1.337778e-02 | 6.035556e-02 | 1.806667e-01 | 2.037333e-01 | 0.1372000000 | 0.088400000 | ⋯ | 598.00000000 |    0.7892548 |   0.00000000 | 0.00000000 | 0.00000000 | 0.00000000 | 0.000000e+00 | 0.000000e+00 | 0.000000e+00 |   0.0000000 |\n",
       "| 5 | 4.444444e-05 | 8.888889e-05 | 4.444444e-05 | 3.111111e-04 | 5.333333e-03 | 3.426667e-02 | 1.457333e-01 | 1.473778e-01 | 0.0725333333 | 0.059733333 | ⋯ | 596.00000000 |    0.7957989 |   0.00000000 | 0.00000000 | 0.00000000 | 0.00000000 | 0.000000e+00 | 0.000000e+00 | 0.000000e+00 |   0.0000000 |\n",
       "| 6 | 4.444444e-05 | 0.000000e+00 | 0.000000e+00 | 4.444444e-05 | 8.888889e-05 | 4.444444e-05 | 8.888889e-05 | 0.000000e+00 | 0.0004000000 | 0.007688889 | ⋯ |  -0.01839539 |    0.9149045 |   0.09230061 | 1.00000000 | 0.19919756 | 0.02809956 | 2.992068e-02 | 2.249300e+04 | 5.960000e+02 |   0.7957282 |\n",
       "\n"
      ],
      "text/plain": [
       "  feature_1    feature_2    feature_3    feature_4    feature_5    feature_6   \n",
       "1 1.777778e-04 9.200000e-03 2.928889e-02 3.346667e-02 3.160000e-02 3.035556e-02\n",
       "2 1.333333e-04 8.888889e-05 1.333333e-04 8.888889e-05 1.777778e-04 2.355556e-03\n",
       "3 4.444444e-05 0.000000e+00 0.000000e+00 4.444444e-05 8.888889e-05 4.444444e-05\n",
       "4 2.666667e-04 5.333333e-04 1.511111e-03 4.711111e-03 1.337778e-02 6.035556e-02\n",
       "5 4.444444e-05 8.888889e-05 4.444444e-05 3.111111e-04 5.333333e-03 3.426667e-02\n",
       "6 4.444444e-05 0.000000e+00 0.000000e+00 4.444444e-05 8.888889e-05 4.444444e-05\n",
       "  feature_7    feature_8    feature_9    feature_10  ⋯ feature_53  \n",
       "1 2.817778e-02 2.760000e-02 0.0230222222 0.022533333 ⋯   0.04149962\n",
       "2 4.666667e-03 1.200000e-02 0.0433333333 0.068711111 ⋯   0.84667133\n",
       "3 8.888889e-05 4.444444e-05 0.0009777778 0.014355556 ⋯  -0.89997674\n",
       "4 1.806667e-01 2.037333e-01 0.1372000000 0.088400000 ⋯ 598.00000000\n",
       "5 1.457333e-01 1.473778e-01 0.0725333333 0.059733333 ⋯ 596.00000000\n",
       "6 8.888889e-05 0.000000e+00 0.0004000000 0.007688889 ⋯  -0.01839539\n",
       "  feature_54   feature_55   feature_56 feature_57 feature_58 feature_59  \n",
       "1 4363.2000000 137.00000000 5.96785310 0.00000000 0.00000000 0.000000e+00\n",
       "2    0.1346286   0.99796863 0.21231420 0.02622837 0.02886068 2.233100e+04\n",
       "3   -0.3108987   0.91405783 0.09632424 1.00000000 0.19667728 2.920255e-02\n",
       "4    0.7892548   0.00000000 0.00000000 0.00000000 0.00000000 0.000000e+00\n",
       "5    0.7957989   0.00000000 0.00000000 0.00000000 0.00000000 0.000000e+00\n",
       "6    0.9149045   0.09230061 1.00000000 0.19919756 0.02809956 2.992068e-02\n",
       "  feature_60   feature_61   feature_62 \n",
       "1 0.000000e+00 0.000000e+00   0.0000000\n",
       "2 6.070000e+02 7.616241e-01   0.0000000\n",
       "3 3.177244e-02 2.249300e+04 596.0000000\n",
       "4 0.000000e+00 0.000000e+00   0.0000000\n",
       "5 0.000000e+00 0.000000e+00   0.0000000\n",
       "6 2.249300e+04 5.960000e+02   0.7957282"
      ]
     },
     "metadata": {},
     "output_type": "display_data"
    },
    {
     "data": {
      "text/html": [
       "<table class=\"dataframe\">\n",
       "<caption>A data.frame: 6 × 62</caption>\n",
       "<thead>\n",
       "\t<tr><th></th><th scope=col>feature_1</th><th scope=col>feature_2</th><th scope=col>feature_3</th><th scope=col>feature_4</th><th scope=col>feature_5</th><th scope=col>feature_6</th><th scope=col>feature_7</th><th scope=col>feature_8</th><th scope=col>feature_9</th><th scope=col>feature_10</th><th scope=col>⋯</th><th scope=col>feature_53</th><th scope=col>feature_54</th><th scope=col>feature_55</th><th scope=col>feature_56</th><th scope=col>feature_57</th><th scope=col>feature_58</th><th scope=col>feature_59</th><th scope=col>feature_60</th><th scope=col>feature_61</th><th scope=col>feature_62</th></tr>\n",
       "\t<tr><th></th><th scope=col>&lt;dbl&gt;</th><th scope=col>&lt;dbl&gt;</th><th scope=col>&lt;dbl&gt;</th><th scope=col>&lt;dbl&gt;</th><th scope=col>&lt;dbl&gt;</th><th scope=col>&lt;dbl&gt;</th><th scope=col>&lt;dbl&gt;</th><th scope=col>&lt;dbl&gt;</th><th scope=col>&lt;dbl&gt;</th><th scope=col>&lt;dbl&gt;</th><th scope=col>⋯</th><th scope=col>&lt;dbl&gt;</th><th scope=col>&lt;dbl&gt;</th><th scope=col>&lt;dbl&gt;</th><th scope=col>&lt;dbl&gt;</th><th scope=col>&lt;dbl&gt;</th><th scope=col>&lt;dbl&gt;</th><th scope=col>&lt;dbl&gt;</th><th scope=col>&lt;dbl&gt;</th><th scope=col>&lt;dbl&gt;</th><th scope=col>&lt;dbl&gt;</th></tr>\n",
       "</thead>\n",
       "<tbody>\n",
       "\t<tr><th scope=row>1</th><td>4.444444e-05</td><td>0.0000000000</td><td>0.0005333333</td><td>1.600000e-03</td><td>0.0016888889</td><td>0.007244444</td><td>0.014400000</td><td>0.04000000</td><td>0.059733333</td><td>0.081155556</td><td>⋯</td><td>-0.72063618</td><td> 0.09900467</td><td> 0.7573208</td><td>0.1344301</td><td>0.9996799</td><td>0.1961524</td><td>0.03135625</td><td>0.03081814</td><td>2.143600e+03</td><td>6.160000e+01</td></tr>\n",
       "\t<tr><th scope=row>2</th><td>4.444444e-05</td><td>0.0000000000</td><td>0.0000000000</td><td>4.444444e-05</td><td>0.0012444444</td><td>0.002222222</td><td>0.003733333</td><td>0.01017778</td><td>0.009511111</td><td>0.006488889</td><td>⋯</td><td> 0.01607724</td><td>-2.90546663</td><td> 7.9453205</td><td>0.9296345</td><td>0.1267961</td><td>1.0000000</td><td>0.19855085</td><td>0.02378104</td><td>4.134360e-02</td><td>3.122714e+03</td></tr>\n",
       "\t<tr><th scope=row>3</th><td>4.444444e-05</td><td>0.0000000000</td><td>0.0000000000</td><td>9.777778e-04</td><td>0.0111111111</td><td>0.014400000</td><td>0.014755556</td><td>0.01355556</td><td>0.010711111</td><td>0.021466667</td><td>⋯</td><td> 0.02576232</td><td>-1.45620894</td><td> 1.6885739</td><td>0.8469369</td><td>0.1605064</td><td>1.0000000</td><td>0.19865621</td><td>0.04047891</td><td>4.891586e-02</td><td>3.022286e+03</td></tr>\n",
       "\t<tr><th scope=row>4</th><td>4.444444e-05</td><td>0.0000000000</td><td>0.0012444444</td><td>3.688889e-03</td><td>0.0087555556</td><td>0.009244444</td><td>0.007866667</td><td>0.00320000</td><td>0.003288889</td><td>0.007733333</td><td>⋯</td><td> 0.01968015</td><td>-2.28102416</td><td> 6.0087276</td><td>0.8921082</td><td>0.1402859</td><td>1.0000000</td><td>0.19813004</td><td>0.03597165</td><td>4.806516e-02</td><td>3.606667e+03</td></tr>\n",
       "\t<tr><th scope=row>5</th><td>4.444444e-05</td><td>0.0000000000</td><td>0.0000000000</td><td>4.444444e-05</td><td>0.0005333333</td><td>0.002977778</td><td>0.008800000</td><td>0.01311111</td><td>0.011600000</td><td>0.012622222</td><td>⋯</td><td>-1.90820209</td><td> 3.40479587</td><td> 0.8887411</td><td>0.1384541</td><td>1.0000000</td><td>0.1993923</td><td>0.03608865</td><td>0.04203537</td><td>2.170000e+04</td><td>5.960000e+02</td></tr>\n",
       "\t<tr><th scope=row>6</th><td>4.444444e-05</td><td>0.0003555556</td><td>0.0046222222</td><td>8.311111e-03</td><td>0.0068000000</td><td>0.008533333</td><td>0.013377778</td><td>0.01688889</td><td>0.028088889</td><td>0.044000000</td><td>⋯</td><td> 0.21066667</td><td> 0.02681166</td><td>-1.3054793</td><td>1.2982976</td><td>0.8128584</td><td>0.1637427</td><td>0.99979153</td><td>0.19686936</td><td>3.973655e-02</td><td>4.400242e-02</td></tr>\n",
       "</tbody>\n",
       "</table>\n"
      ],
      "text/latex": [
       "A data.frame: 6 × 62\n",
       "\\begin{tabular}{r|lllllllllllllllllllll}\n",
       "  & feature\\_1 & feature\\_2 & feature\\_3 & feature\\_4 & feature\\_5 & feature\\_6 & feature\\_7 & feature\\_8 & feature\\_9 & feature\\_10 & ⋯ & feature\\_53 & feature\\_54 & feature\\_55 & feature\\_56 & feature\\_57 & feature\\_58 & feature\\_59 & feature\\_60 & feature\\_61 & feature\\_62\\\\\n",
       "  & <dbl> & <dbl> & <dbl> & <dbl> & <dbl> & <dbl> & <dbl> & <dbl> & <dbl> & <dbl> & ⋯ & <dbl> & <dbl> & <dbl> & <dbl> & <dbl> & <dbl> & <dbl> & <dbl> & <dbl> & <dbl>\\\\\n",
       "\\hline\n",
       "\t1 & 4.444444e-05 & 0.0000000000 & 0.0005333333 & 1.600000e-03 & 0.0016888889 & 0.007244444 & 0.014400000 & 0.04000000 & 0.059733333 & 0.081155556 & ⋯ & -0.72063618 &  0.09900467 &  0.7573208 & 0.1344301 & 0.9996799 & 0.1961524 & 0.03135625 & 0.03081814 & 2.143600e+03 & 6.160000e+01\\\\\n",
       "\t2 & 4.444444e-05 & 0.0000000000 & 0.0000000000 & 4.444444e-05 & 0.0012444444 & 0.002222222 & 0.003733333 & 0.01017778 & 0.009511111 & 0.006488889 & ⋯ &  0.01607724 & -2.90546663 &  7.9453205 & 0.9296345 & 0.1267961 & 1.0000000 & 0.19855085 & 0.02378104 & 4.134360e-02 & 3.122714e+03\\\\\n",
       "\t3 & 4.444444e-05 & 0.0000000000 & 0.0000000000 & 9.777778e-04 & 0.0111111111 & 0.014400000 & 0.014755556 & 0.01355556 & 0.010711111 & 0.021466667 & ⋯ &  0.02576232 & -1.45620894 &  1.6885739 & 0.8469369 & 0.1605064 & 1.0000000 & 0.19865621 & 0.04047891 & 4.891586e-02 & 3.022286e+03\\\\\n",
       "\t4 & 4.444444e-05 & 0.0000000000 & 0.0012444444 & 3.688889e-03 & 0.0087555556 & 0.009244444 & 0.007866667 & 0.00320000 & 0.003288889 & 0.007733333 & ⋯ &  0.01968015 & -2.28102416 &  6.0087276 & 0.8921082 & 0.1402859 & 1.0000000 & 0.19813004 & 0.03597165 & 4.806516e-02 & 3.606667e+03\\\\\n",
       "\t5 & 4.444444e-05 & 0.0000000000 & 0.0000000000 & 4.444444e-05 & 0.0005333333 & 0.002977778 & 0.008800000 & 0.01311111 & 0.011600000 & 0.012622222 & ⋯ & -1.90820209 &  3.40479587 &  0.8887411 & 0.1384541 & 1.0000000 & 0.1993923 & 0.03608865 & 0.04203537 & 2.170000e+04 & 5.960000e+02\\\\\n",
       "\t6 & 4.444444e-05 & 0.0003555556 & 0.0046222222 & 8.311111e-03 & 0.0068000000 & 0.008533333 & 0.013377778 & 0.01688889 & 0.028088889 & 0.044000000 & ⋯ &  0.21066667 &  0.02681166 & -1.3054793 & 1.2982976 & 0.8128584 & 0.1637427 & 0.99979153 & 0.19686936 & 3.973655e-02 & 4.400242e-02\\\\\n",
       "\\end{tabular}\n"
      ],
      "text/markdown": [
       "\n",
       "A data.frame: 6 × 62\n",
       "\n",
       "| <!--/--> | feature_1 &lt;dbl&gt; | feature_2 &lt;dbl&gt; | feature_3 &lt;dbl&gt; | feature_4 &lt;dbl&gt; | feature_5 &lt;dbl&gt; | feature_6 &lt;dbl&gt; | feature_7 &lt;dbl&gt; | feature_8 &lt;dbl&gt; | feature_9 &lt;dbl&gt; | feature_10 &lt;dbl&gt; | ⋯ ⋯ | feature_53 &lt;dbl&gt; | feature_54 &lt;dbl&gt; | feature_55 &lt;dbl&gt; | feature_56 &lt;dbl&gt; | feature_57 &lt;dbl&gt; | feature_58 &lt;dbl&gt; | feature_59 &lt;dbl&gt; | feature_60 &lt;dbl&gt; | feature_61 &lt;dbl&gt; | feature_62 &lt;dbl&gt; |\n",
       "|---|---|---|---|---|---|---|---|---|---|---|---|---|---|---|---|---|---|---|---|---|---|\n",
       "| 1 | 4.444444e-05 | 0.0000000000 | 0.0005333333 | 1.600000e-03 | 0.0016888889 | 0.007244444 | 0.014400000 | 0.04000000 | 0.059733333 | 0.081155556 | ⋯ | -0.72063618 |  0.09900467 |  0.7573208 | 0.1344301 | 0.9996799 | 0.1961524 | 0.03135625 | 0.03081814 | 2.143600e+03 | 6.160000e+01 |\n",
       "| 2 | 4.444444e-05 | 0.0000000000 | 0.0000000000 | 4.444444e-05 | 0.0012444444 | 0.002222222 | 0.003733333 | 0.01017778 | 0.009511111 | 0.006488889 | ⋯ |  0.01607724 | -2.90546663 |  7.9453205 | 0.9296345 | 0.1267961 | 1.0000000 | 0.19855085 | 0.02378104 | 4.134360e-02 | 3.122714e+03 |\n",
       "| 3 | 4.444444e-05 | 0.0000000000 | 0.0000000000 | 9.777778e-04 | 0.0111111111 | 0.014400000 | 0.014755556 | 0.01355556 | 0.010711111 | 0.021466667 | ⋯ |  0.02576232 | -1.45620894 |  1.6885739 | 0.8469369 | 0.1605064 | 1.0000000 | 0.19865621 | 0.04047891 | 4.891586e-02 | 3.022286e+03 |\n",
       "| 4 | 4.444444e-05 | 0.0000000000 | 0.0012444444 | 3.688889e-03 | 0.0087555556 | 0.009244444 | 0.007866667 | 0.00320000 | 0.003288889 | 0.007733333 | ⋯ |  0.01968015 | -2.28102416 |  6.0087276 | 0.8921082 | 0.1402859 | 1.0000000 | 0.19813004 | 0.03597165 | 4.806516e-02 | 3.606667e+03 |\n",
       "| 5 | 4.444444e-05 | 0.0000000000 | 0.0000000000 | 4.444444e-05 | 0.0005333333 | 0.002977778 | 0.008800000 | 0.01311111 | 0.011600000 | 0.012622222 | ⋯ | -1.90820209 |  3.40479587 |  0.8887411 | 0.1384541 | 1.0000000 | 0.1993923 | 0.03608865 | 0.04203537 | 2.170000e+04 | 5.960000e+02 |\n",
       "| 6 | 4.444444e-05 | 0.0003555556 | 0.0046222222 | 8.311111e-03 | 0.0068000000 | 0.008533333 | 0.013377778 | 0.01688889 | 0.028088889 | 0.044000000 | ⋯ |  0.21066667 |  0.02681166 | -1.3054793 | 1.2982976 | 0.8128584 | 0.1637427 | 0.99979153 | 0.19686936 | 3.973655e-02 | 4.400242e-02 |\n",
       "\n"
      ],
      "text/plain": [
       "  feature_1    feature_2    feature_3    feature_4    feature_5    feature_6  \n",
       "1 4.444444e-05 0.0000000000 0.0005333333 1.600000e-03 0.0016888889 0.007244444\n",
       "2 4.444444e-05 0.0000000000 0.0000000000 4.444444e-05 0.0012444444 0.002222222\n",
       "3 4.444444e-05 0.0000000000 0.0000000000 9.777778e-04 0.0111111111 0.014400000\n",
       "4 4.444444e-05 0.0000000000 0.0012444444 3.688889e-03 0.0087555556 0.009244444\n",
       "5 4.444444e-05 0.0000000000 0.0000000000 4.444444e-05 0.0005333333 0.002977778\n",
       "6 4.444444e-05 0.0003555556 0.0046222222 8.311111e-03 0.0068000000 0.008533333\n",
       "  feature_7   feature_8  feature_9   feature_10  ⋯ feature_53  feature_54 \n",
       "1 0.014400000 0.04000000 0.059733333 0.081155556 ⋯ -0.72063618  0.09900467\n",
       "2 0.003733333 0.01017778 0.009511111 0.006488889 ⋯  0.01607724 -2.90546663\n",
       "3 0.014755556 0.01355556 0.010711111 0.021466667 ⋯  0.02576232 -1.45620894\n",
       "4 0.007866667 0.00320000 0.003288889 0.007733333 ⋯  0.01968015 -2.28102416\n",
       "5 0.008800000 0.01311111 0.011600000 0.012622222 ⋯ -1.90820209  3.40479587\n",
       "6 0.013377778 0.01688889 0.028088889 0.044000000 ⋯  0.21066667  0.02681166\n",
       "  feature_55 feature_56 feature_57 feature_58 feature_59 feature_60\n",
       "1  0.7573208 0.1344301  0.9996799  0.1961524  0.03135625 0.03081814\n",
       "2  7.9453205 0.9296345  0.1267961  1.0000000  0.19855085 0.02378104\n",
       "3  1.6885739 0.8469369  0.1605064  1.0000000  0.19865621 0.04047891\n",
       "4  6.0087276 0.8921082  0.1402859  1.0000000  0.19813004 0.03597165\n",
       "5  0.8887411 0.1384541  1.0000000  0.1993923  0.03608865 0.04203537\n",
       "6 -1.3054793 1.2982976  0.8128584  0.1637427  0.99979153 0.19686936\n",
       "  feature_61   feature_62  \n",
       "1 2.143600e+03 6.160000e+01\n",
       "2 4.134360e-02 3.122714e+03\n",
       "3 4.891586e-02 3.022286e+03\n",
       "4 4.806516e-02 3.606667e+03\n",
       "5 2.170000e+04 5.960000e+02\n",
       "6 3.973655e-02 4.400242e-02"
      ]
     },
     "metadata": {},
     "output_type": "display_data"
    },
    {
     "data": {
      "text/html": [
       "<table class=\"dataframe\">\n",
       "<caption>A data.frame: 6 × 62</caption>\n",
       "<thead>\n",
       "\t<tr><th></th><th scope=col>feature_1</th><th scope=col>feature_2</th><th scope=col>feature_3</th><th scope=col>feature_4</th><th scope=col>feature_5</th><th scope=col>feature_6</th><th scope=col>feature_7</th><th scope=col>feature_8</th><th scope=col>feature_9</th><th scope=col>feature_10</th><th scope=col>⋯</th><th scope=col>feature_53</th><th scope=col>feature_54</th><th scope=col>feature_55</th><th scope=col>feature_56</th><th scope=col>feature_57</th><th scope=col>feature_58</th><th scope=col>feature_59</th><th scope=col>feature_60</th><th scope=col>feature_61</th><th scope=col>feature_62</th></tr>\n",
       "\t<tr><th></th><th scope=col>&lt;dbl&gt;</th><th scope=col>&lt;dbl&gt;</th><th scope=col>&lt;dbl&gt;</th><th scope=col>&lt;dbl&gt;</th><th scope=col>&lt;dbl&gt;</th><th scope=col>&lt;dbl&gt;</th><th scope=col>&lt;dbl&gt;</th><th scope=col>&lt;dbl&gt;</th><th scope=col>&lt;dbl&gt;</th><th scope=col>&lt;dbl&gt;</th><th scope=col>⋯</th><th scope=col>&lt;dbl&gt;</th><th scope=col>&lt;dbl&gt;</th><th scope=col>&lt;dbl&gt;</th><th scope=col>&lt;dbl&gt;</th><th scope=col>&lt;dbl&gt;</th><th scope=col>&lt;dbl&gt;</th><th scope=col>&lt;dbl&gt;</th><th scope=col>&lt;dbl&gt;</th><th scope=col>&lt;dbl&gt;</th><th scope=col>&lt;dbl&gt;</th></tr>\n",
       "</thead>\n",
       "<tbody>\n",
       "\t<tr><th scope=row>1</th><td>4.444444e-05</td><td>0.0000000000</td><td>0.0000000000</td><td>8.888889e-05</td><td>0.0005777778</td><td>0.001911111</td><td>0.005866667</td><td>0.013066667</td><td>0.018222222</td><td>0.015111111</td><td>⋯</td><td>-2.77062137</td><td> 7.31900272</td><td> 0.92711700</td><td> 0.1278960</td><td>1.0000000</td><td>0.19725757</td><td>0.02467900</td><td>3.804122e-02</td><td>2.711750e+03</td><td>7.725000e+01</td></tr>\n",
       "\t<tr><th scope=row>2</th><td>4.444444e-05</td><td>0.0010666667</td><td>0.0024888889</td><td>7.733333e-03</td><td>0.0236000000</td><td>0.014488889</td><td>0.008622222</td><td>0.006888889</td><td>0.011777778</td><td>0.020622222</td><td>⋯</td><td> 0.38422222</td><td> 0.02986206</td><td>-1.67308901</td><td> 2.3843805</td><td>0.8399360</td><td>0.17280643</td><td>1.00000000</td><td>1.957527e-01</td><td>4.623507e-02</td><td>5.489312e-02</td></tr>\n",
       "\t<tr><th scope=row>3</th><td>4.444444e-05</td><td>0.0000000000</td><td>0.0001333333</td><td>3.111111e-03</td><td>0.0092444444</td><td>0.009111111</td><td>0.013955556</td><td>0.014533333</td><td>0.008311111</td><td>0.011866667</td><td>⋯</td><td> 0.01662846</td><td>-1.86762989</td><td> 4.22952231</td><td> 0.8048085</td><td>0.1289514</td><td>1.00000000</td><td>0.19710840</td><td>3.215657e-02</td><td>3.910905e-02</td><td>3.044000e+03</td></tr>\n",
       "\t<tr><th scope=row>4</th><td>4.444444e-05</td><td>0.0000000000</td><td>0.0000000000</td><td>6.666667e-04</td><td>0.0014666667</td><td>0.002755556</td><td>0.004000000</td><td>0.009511111</td><td>0.009733333</td><td>0.004044444</td><td>⋯</td><td> 8.95771716</td><td> 0.91496135</td><td> 0.11159925</td><td> 1.0000000</td><td>0.1983277</td><td>0.02994379</td><td>0.03680758</td><td>2.436778e+03</td><td>7.255556e+01</td><td>5.971678e+00</td></tr>\n",
       "\t<tr><th scope=row>5</th><td>4.444444e-05</td><td>0.0001777778</td><td>0.0003555556</td><td>6.666667e-04</td><td>0.0016888889</td><td>0.005866667</td><td>0.005911111</td><td>0.007377778</td><td>0.010222222</td><td>0.014888889</td><td>⋯</td><td> 0.01725133</td><td>-1.83555546</td><td> 3.86902200</td><td> 0.8827094</td><td>0.1313443</td><td>1.00000000</td><td>0.19750980</td><td>3.397769e-02</td><td>3.890111e-02</td><td>4.379400e+03</td></tr>\n",
       "\t<tr><th scope=row>6</th><td>4.444444e-05</td><td>0.0000000000</td><td>0.0000000000</td><td>5.600000e-03</td><td>0.0108000000</td><td>0.005733333</td><td>0.005555556</td><td>0.004355556</td><td>0.007333333</td><td>0.007111111</td><td>⋯</td><td> 0.28684444</td><td> 0.55186667</td><td> 0.02022319</td><td>-2.2201853</td><td>5.6228662</td><td>0.88571348</td><td>0.14220826</td><td>1.000000e+00</td><td>1.968674e-01</td><td>3.700832e-02</td></tr>\n",
       "</tbody>\n",
       "</table>\n"
      ],
      "text/latex": [
       "A data.frame: 6 × 62\n",
       "\\begin{tabular}{r|lllllllllllllllllllll}\n",
       "  & feature\\_1 & feature\\_2 & feature\\_3 & feature\\_4 & feature\\_5 & feature\\_6 & feature\\_7 & feature\\_8 & feature\\_9 & feature\\_10 & ⋯ & feature\\_53 & feature\\_54 & feature\\_55 & feature\\_56 & feature\\_57 & feature\\_58 & feature\\_59 & feature\\_60 & feature\\_61 & feature\\_62\\\\\n",
       "  & <dbl> & <dbl> & <dbl> & <dbl> & <dbl> & <dbl> & <dbl> & <dbl> & <dbl> & <dbl> & ⋯ & <dbl> & <dbl> & <dbl> & <dbl> & <dbl> & <dbl> & <dbl> & <dbl> & <dbl> & <dbl>\\\\\n",
       "\\hline\n",
       "\t1 & 4.444444e-05 & 0.0000000000 & 0.0000000000 & 8.888889e-05 & 0.0005777778 & 0.001911111 & 0.005866667 & 0.013066667 & 0.018222222 & 0.015111111 & ⋯ & -2.77062137 &  7.31900272 &  0.92711700 &  0.1278960 & 1.0000000 & 0.19725757 & 0.02467900 & 3.804122e-02 & 2.711750e+03 & 7.725000e+01\\\\\n",
       "\t2 & 4.444444e-05 & 0.0010666667 & 0.0024888889 & 7.733333e-03 & 0.0236000000 & 0.014488889 & 0.008622222 & 0.006888889 & 0.011777778 & 0.020622222 & ⋯ &  0.38422222 &  0.02986206 & -1.67308901 &  2.3843805 & 0.8399360 & 0.17280643 & 1.00000000 & 1.957527e-01 & 4.623507e-02 & 5.489312e-02\\\\\n",
       "\t3 & 4.444444e-05 & 0.0000000000 & 0.0001333333 & 3.111111e-03 & 0.0092444444 & 0.009111111 & 0.013955556 & 0.014533333 & 0.008311111 & 0.011866667 & ⋯ &  0.01662846 & -1.86762989 &  4.22952231 &  0.8048085 & 0.1289514 & 1.00000000 & 0.19710840 & 3.215657e-02 & 3.910905e-02 & 3.044000e+03\\\\\n",
       "\t4 & 4.444444e-05 & 0.0000000000 & 0.0000000000 & 6.666667e-04 & 0.0014666667 & 0.002755556 & 0.004000000 & 0.009511111 & 0.009733333 & 0.004044444 & ⋯ &  8.95771716 &  0.91496135 &  0.11159925 &  1.0000000 & 0.1983277 & 0.02994379 & 0.03680758 & 2.436778e+03 & 7.255556e+01 & 5.971678e+00\\\\\n",
       "\t5 & 4.444444e-05 & 0.0001777778 & 0.0003555556 & 6.666667e-04 & 0.0016888889 & 0.005866667 & 0.005911111 & 0.007377778 & 0.010222222 & 0.014888889 & ⋯ &  0.01725133 & -1.83555546 &  3.86902200 &  0.8827094 & 0.1313443 & 1.00000000 & 0.19750980 & 3.397769e-02 & 3.890111e-02 & 4.379400e+03\\\\\n",
       "\t6 & 4.444444e-05 & 0.0000000000 & 0.0000000000 & 5.600000e-03 & 0.0108000000 & 0.005733333 & 0.005555556 & 0.004355556 & 0.007333333 & 0.007111111 & ⋯ &  0.28684444 &  0.55186667 &  0.02022319 & -2.2201853 & 5.6228662 & 0.88571348 & 0.14220826 & 1.000000e+00 & 1.968674e-01 & 3.700832e-02\\\\\n",
       "\\end{tabular}\n"
      ],
      "text/markdown": [
       "\n",
       "A data.frame: 6 × 62\n",
       "\n",
       "| <!--/--> | feature_1 &lt;dbl&gt; | feature_2 &lt;dbl&gt; | feature_3 &lt;dbl&gt; | feature_4 &lt;dbl&gt; | feature_5 &lt;dbl&gt; | feature_6 &lt;dbl&gt; | feature_7 &lt;dbl&gt; | feature_8 &lt;dbl&gt; | feature_9 &lt;dbl&gt; | feature_10 &lt;dbl&gt; | ⋯ ⋯ | feature_53 &lt;dbl&gt; | feature_54 &lt;dbl&gt; | feature_55 &lt;dbl&gt; | feature_56 &lt;dbl&gt; | feature_57 &lt;dbl&gt; | feature_58 &lt;dbl&gt; | feature_59 &lt;dbl&gt; | feature_60 &lt;dbl&gt; | feature_61 &lt;dbl&gt; | feature_62 &lt;dbl&gt; |\n",
       "|---|---|---|---|---|---|---|---|---|---|---|---|---|---|---|---|---|---|---|---|---|---|\n",
       "| 1 | 4.444444e-05 | 0.0000000000 | 0.0000000000 | 8.888889e-05 | 0.0005777778 | 0.001911111 | 0.005866667 | 0.013066667 | 0.018222222 | 0.015111111 | ⋯ | -2.77062137 |  7.31900272 |  0.92711700 |  0.1278960 | 1.0000000 | 0.19725757 | 0.02467900 | 3.804122e-02 | 2.711750e+03 | 7.725000e+01 |\n",
       "| 2 | 4.444444e-05 | 0.0010666667 | 0.0024888889 | 7.733333e-03 | 0.0236000000 | 0.014488889 | 0.008622222 | 0.006888889 | 0.011777778 | 0.020622222 | ⋯ |  0.38422222 |  0.02986206 | -1.67308901 |  2.3843805 | 0.8399360 | 0.17280643 | 1.00000000 | 1.957527e-01 | 4.623507e-02 | 5.489312e-02 |\n",
       "| 3 | 4.444444e-05 | 0.0000000000 | 0.0001333333 | 3.111111e-03 | 0.0092444444 | 0.009111111 | 0.013955556 | 0.014533333 | 0.008311111 | 0.011866667 | ⋯ |  0.01662846 | -1.86762989 |  4.22952231 |  0.8048085 | 0.1289514 | 1.00000000 | 0.19710840 | 3.215657e-02 | 3.910905e-02 | 3.044000e+03 |\n",
       "| 4 | 4.444444e-05 | 0.0000000000 | 0.0000000000 | 6.666667e-04 | 0.0014666667 | 0.002755556 | 0.004000000 | 0.009511111 | 0.009733333 | 0.004044444 | ⋯ |  8.95771716 |  0.91496135 |  0.11159925 |  1.0000000 | 0.1983277 | 0.02994379 | 0.03680758 | 2.436778e+03 | 7.255556e+01 | 5.971678e+00 |\n",
       "| 5 | 4.444444e-05 | 0.0001777778 | 0.0003555556 | 6.666667e-04 | 0.0016888889 | 0.005866667 | 0.005911111 | 0.007377778 | 0.010222222 | 0.014888889 | ⋯ |  0.01725133 | -1.83555546 |  3.86902200 |  0.8827094 | 0.1313443 | 1.00000000 | 0.19750980 | 3.397769e-02 | 3.890111e-02 | 4.379400e+03 |\n",
       "| 6 | 4.444444e-05 | 0.0000000000 | 0.0000000000 | 5.600000e-03 | 0.0108000000 | 0.005733333 | 0.005555556 | 0.004355556 | 0.007333333 | 0.007111111 | ⋯ |  0.28684444 |  0.55186667 |  0.02022319 | -2.2201853 | 5.6228662 | 0.88571348 | 0.14220826 | 1.000000e+00 | 1.968674e-01 | 3.700832e-02 |\n",
       "\n"
      ],
      "text/plain": [
       "  feature_1    feature_2    feature_3    feature_4    feature_5    feature_6  \n",
       "1 4.444444e-05 0.0000000000 0.0000000000 8.888889e-05 0.0005777778 0.001911111\n",
       "2 4.444444e-05 0.0010666667 0.0024888889 7.733333e-03 0.0236000000 0.014488889\n",
       "3 4.444444e-05 0.0000000000 0.0001333333 3.111111e-03 0.0092444444 0.009111111\n",
       "4 4.444444e-05 0.0000000000 0.0000000000 6.666667e-04 0.0014666667 0.002755556\n",
       "5 4.444444e-05 0.0001777778 0.0003555556 6.666667e-04 0.0016888889 0.005866667\n",
       "6 4.444444e-05 0.0000000000 0.0000000000 5.600000e-03 0.0108000000 0.005733333\n",
       "  feature_7   feature_8   feature_9   feature_10  ⋯ feature_53  feature_54 \n",
       "1 0.005866667 0.013066667 0.018222222 0.015111111 ⋯ -2.77062137  7.31900272\n",
       "2 0.008622222 0.006888889 0.011777778 0.020622222 ⋯  0.38422222  0.02986206\n",
       "3 0.013955556 0.014533333 0.008311111 0.011866667 ⋯  0.01662846 -1.86762989\n",
       "4 0.004000000 0.009511111 0.009733333 0.004044444 ⋯  8.95771716  0.91496135\n",
       "5 0.005911111 0.007377778 0.010222222 0.014888889 ⋯  0.01725133 -1.83555546\n",
       "6 0.005555556 0.004355556 0.007333333 0.007111111 ⋯  0.28684444  0.55186667\n",
       "  feature_55  feature_56 feature_57 feature_58 feature_59 feature_60  \n",
       "1  0.92711700  0.1278960 1.0000000  0.19725757 0.02467900 3.804122e-02\n",
       "2 -1.67308901  2.3843805 0.8399360  0.17280643 1.00000000 1.957527e-01\n",
       "3  4.22952231  0.8048085 0.1289514  1.00000000 0.19710840 3.215657e-02\n",
       "4  0.11159925  1.0000000 0.1983277  0.02994379 0.03680758 2.436778e+03\n",
       "5  3.86902200  0.8827094 0.1313443  1.00000000 0.19750980 3.397769e-02\n",
       "6  0.02022319 -2.2201853 5.6228662  0.88571348 0.14220826 1.000000e+00\n",
       "  feature_61   feature_62  \n",
       "1 2.711750e+03 7.725000e+01\n",
       "2 4.623507e-02 5.489312e-02\n",
       "3 3.910905e-02 3.044000e+03\n",
       "4 7.255556e+01 5.971678e+00\n",
       "5 3.890111e-02 4.379400e+03\n",
       "6 1.968674e-01 3.700832e-02"
      ]
     },
     "metadata": {},
     "output_type": "display_data"
    }
   ],
   "source": [
    "head(train_data_filtered)\n",
    "head(validation_data_filtered)\n",
    "head(test_data_filtered)"
   ]
  },
  {
   "cell_type": "code",
   "execution_count": 3,
   "id": "60b1eedd",
   "metadata": {
    "_execution_state": "idle",
    "_uuid": "051d70d956493feee0c6d64651c6a088724dca2a",
    "execution": {
     "iopub.execute_input": "2024-11-19T15:02:00.254711Z",
     "iopub.status.busy": "2024-11-19T15:02:00.252872Z",
     "iopub.status.idle": "2024-11-19T15:02:00.340879Z",
     "shell.execute_reply": "2024-11-19T15:02:00.338985Z"
    },
    "papermill": {
     "duration": 0.098654,
     "end_time": "2024-11-19T15:02:00.343178",
     "exception": false,
     "start_time": "2024-11-19T15:02:00.244524",
     "status": "completed"
    },
    "tags": []
   },
   "outputs": [
    {
     "name": "stdout",
     "output_type": "stream",
     "text": [
      " num [1:4] 1.615 0.826 0.845 1.013\n"
     ]
    },
    {
     "name": "stdout",
     "output_type": "stream",
     "text": [
      "Train Labels:\n"
     ]
    },
    {
     "name": "stdout",
     "output_type": "stream",
     "text": [
      "[1] 2 1 3 0 1 3\n"
     ]
    },
    {
     "name": "stdout",
     "output_type": "stream",
     "text": [
      "\n"
     ]
    },
    {
     "name": "stdout",
     "output_type": "stream",
     "text": [
      "Class Weights:\n"
     ]
    },
    {
     "name": "stdout",
     "output_type": "stream",
     "text": [
      "[1] 1.6145511 0.8264659 0.8452188 1.0126214\n"
     ]
    },
    {
     "name": "stdout",
     "output_type": "stream",
     "text": [
      "\n"
     ]
    },
    {
     "name": "stdout",
     "output_type": "stream",
     "text": [
      "Assigned Train Weights (first few):\n"
     ]
    },
    {
     "name": "stdout",
     "output_type": "stream",
     "text": [
      "[1] 0.8452188 0.8264659 1.0126214 1.6145511 0.8264659 1.0126214\n"
     ]
    },
    {
     "name": "stdout",
     "output_type": "stream",
     "text": [
      "\n"
     ]
    },
    {
     "name": "stdout",
     "output_type": "stream",
     "text": [
      "Checking for NA values in train_weights:\n"
     ]
    },
    {
     "name": "stdout",
     "output_type": "stream",
     "text": [
      "Number of NA values in train_weights:  0 \n"
     ]
    },
    {
     "name": "stdout",
     "output_type": "stream",
     "text": [
      "\n"
     ]
    },
    {
     "name": "stdout",
     "output_type": "stream",
     "text": [
      "Train Labels and Corresponding Train Weights:\n"
     ]
    },
    {
     "name": "stdout",
     "output_type": "stream",
     "text": [
      "   train_labels train_weights\n",
      "1             2     0.8452188\n",
      "2             1     0.8264659\n",
      "3             3     1.0126214\n",
      "4             0     1.6145511\n",
      "5             1     0.8264659\n",
      "6             3     1.0126214\n",
      "7             1     0.8264659\n",
      "8             2     0.8452188\n",
      "9             2     0.8452188\n",
      "10            0     1.6145511\n"
     ]
    },
    {
     "name": "stdout",
     "output_type": "stream",
     "text": [
      "\n"
     ]
    }
   ],
   "source": [
    "class_weights <- as.numeric(class_weights)\n",
    "str(class_weights)\n",
    "\n",
    "train_weights <- class_weights[train_df$class_numeric + 1]\n",
    "\n",
    "# Check the train_labels values\n",
    "cat(\"Train Labels:\\n\")\n",
    "print(head(train_labels))  # Display the first few train labels\n",
    "cat(\"\\n\")\n",
    "\n",
    "# Check the class_weights values\n",
    "cat(\"Class Weights:\\n\")\n",
    "print(class_weights)  # Display the class weights\n",
    "cat(\"\\n\")\n",
    "\n",
    "# Ensure that the class_weights vector is correctly aligned with the class labels\n",
    "# If we have 4 classes, class_weights should correspond to the following:\n",
    "# 0 -> 1.615 (Benign), 1 -> 0.826 (Early), 2 -> 0.845 (Pre), 3 -> 1.013 (Pro)\n",
    "\n",
    "# Assign the weights based on train_labels\n",
    "train_weights <- class_weights[train_labels + 1]  # Adjusting for 1-based indexing in R\n",
    "\n",
    "# Check the first few train_weights to confirm they match the expected values\n",
    "cat(\"Assigned Train Weights (first few):\\n\")\n",
    "print(head(train_weights))  # Display the first few train weights\n",
    "cat(\"\\n\")\n",
    "\n",
    "# Check for NA values in the train_weights\n",
    "cat(\"Checking for NA values in train_weights:\\n\")\n",
    "na_count <- sum(is.na(train_weights))  # Should return 0 if no NA values\n",
    "cat(\"Number of NA values in train_weights: \", na_count, \"\\n\")\n",
    "cat(\"\\n\")\n",
    "\n",
    "# If there are NA values, investigate further\n",
    "if (na_count > 0) {\n",
    "  cat(\"Investigate the indices that caused NAs:\\n\")\n",
    "  na_indices <- which(is.na(train_weights))\n",
    "  print(train_labels[na_indices])  # Investigate which train_labels caused the NA values\n",
    "  cat(\"\\n\")\n",
    "}\n",
    "\n",
    "# Finally, print the first few rows of train_labels and train_weights to confirm alignment\n",
    "cat(\"Train Labels and Corresponding Train Weights:\\n\")\n",
    "df_check <- data.frame(train_labels = train_labels[1:10], train_weights = train_weights[1:10])  # First 10 rows for quick inspection\n",
    "print(df_check)\n",
    "cat(\"\\n\")\n"
   ]
  },
  {
   "cell_type": "code",
   "execution_count": 4,
   "id": "4f07c241",
   "metadata": {
    "_execution_state": "idle",
    "_uuid": "051d70d956493feee0c6d64651c6a088724dca2a",
    "execution": {
     "iopub.execute_input": "2024-11-19T15:02:00.359984Z",
     "iopub.status.busy": "2024-11-19T15:02:00.358424Z",
     "iopub.status.idle": "2024-11-19T15:02:01.904336Z",
     "shell.execute_reply": "2024-11-19T15:02:01.902455Z"
    },
    "papermill": {
     "duration": 1.556986,
     "end_time": "2024-11-19T15:02:01.906675",
     "exception": false,
     "start_time": "2024-11-19T15:02:00.349689",
     "status": "completed"
    },
    "tags": []
   },
   "outputs": [
    {
     "name": "stdout",
     "output_type": "stream",
     "text": [
      "[1]\ttrain-merror:0.052583\tval-merror:0.118098 \n",
      "Multiple eval metrics are present. Will use val_merror for early stopping.\n",
      "Will train until val_merror hasn't improved in 20 rounds.\n",
      "\n",
      "[2]\ttrain-merror:0.034334\tval-merror:0.088957 \n",
      "[3]\ttrain-merror:0.026926\tval-merror:0.082822 \n",
      "[4]\ttrain-merror:0.029644\tval-merror:0.087423 \n",
      "[5]\ttrain-merror:0.023739\tval-merror:0.076687 \n",
      "[6]\ttrain-merror:0.021417\tval-merror:0.076687 \n",
      "[7]\ttrain-merror:0.021048\tval-merror:0.069018 \n",
      "[8]\ttrain-merror:0.017879\tval-merror:0.072086 \n",
      "[9]\ttrain-merror:0.015512\tval-merror:0.064417 \n",
      "[10]\ttrain-merror:0.014701\tval-merror:0.069018 \n",
      "[11]\ttrain-merror:0.013900\tval-merror:0.067485 \n",
      "[12]\ttrain-merror:0.011091\tval-merror:0.064417 \n",
      "[13]\ttrain-merror:0.011064\tval-merror:0.067485 \n",
      "[14]\ttrain-merror:0.011064\tval-merror:0.065951 \n",
      "[15]\ttrain-merror:0.009884\tval-merror:0.062883 \n",
      "[16]\ttrain-merror:0.010253\tval-merror:0.061350 \n",
      "[17]\ttrain-merror:0.009884\tval-merror:0.061350 \n",
      "[18]\ttrain-merror:0.008714\tval-merror:0.061350 \n",
      "[19]\ttrain-merror:0.007535\tval-merror:0.062883 \n",
      "[20]\ttrain-merror:0.006725\tval-merror:0.059816 \n",
      "[21]\ttrain-merror:0.006725\tval-merror:0.059816 \n",
      "[22]\ttrain-merror:0.005545\tval-merror:0.053681 \n",
      "[23]\ttrain-merror:0.005545\tval-merror:0.056748 \n",
      "[24]\ttrain-merror:0.005951\tval-merror:0.056748 \n",
      "[25]\ttrain-merror:0.004366\tval-merror:0.055215 \n",
      "[26]\ttrain-merror:0.003961\tval-merror:0.059816 \n",
      "[27]\ttrain-merror:0.003952\tval-merror:0.058282 \n",
      "[28]\ttrain-merror:0.003151\tval-merror:0.055215 \n",
      "[29]\ttrain-merror:0.002755\tval-merror:0.053681 \n",
      "[30]\ttrain-merror:0.002755\tval-merror:0.056748 \n",
      "[31]\ttrain-merror:0.002755\tval-merror:0.055215 \n",
      "[32]\ttrain-merror:0.002755\tval-merror:0.055215 \n",
      "[33]\ttrain-merror:0.002386\tval-merror:0.055215 \n",
      "[34]\ttrain-merror:0.001207\tval-merror:0.058282 \n",
      "[35]\ttrain-merror:0.001207\tval-merror:0.059816 \n",
      "[36]\ttrain-merror:0.000801\tval-merror:0.055215 \n",
      "[37]\ttrain-merror:0.000801\tval-merror:0.059816 \n",
      "[38]\ttrain-merror:0.000000\tval-merror:0.061350 \n",
      "[39]\ttrain-merror:0.000000\tval-merror:0.058282 \n",
      "[40]\ttrain-merror:0.000000\tval-merror:0.056748 \n",
      "[41]\ttrain-merror:0.000000\tval-merror:0.055215 \n",
      "[42]\ttrain-merror:0.000000\tval-merror:0.055215 \n",
      "Stopping. Best iteration:\n",
      "[22]\ttrain-merror:0.005545\tval-merror:0.053681\n",
      "\n"
     ]
    },
    {
     "name": "stdout",
     "output_type": "stream",
     "text": [
      "Confusion Matrix and Statistics\n",
      "\n",
      "          Reference\n",
      "Prediction Benign Early Pre Pro\n",
      "    Benign     66     2   0   0\n",
      "    Early      10   153   6   0\n",
      "    Pre         1     2 144   0\n",
      "    Pro         3     0   3 128\n",
      "\n",
      "Overall Statistics\n",
      "                                          \n",
      "               Accuracy : 0.9479          \n",
      "                 95% CI : (0.9251, 0.9654)\n",
      "    No Information Rate : 0.3031          \n",
      "    P-Value [Acc > NIR] : < 2.2e-16       \n",
      "                                          \n",
      "                  Kappa : 0.9289          \n",
      "                                          \n",
      " Mcnemar's Test P-Value : NA              \n",
      "\n",
      "Statistics by Class:\n",
      "\n",
      "                     Class: Benign Class: Early Class: Pre Class: Pro\n",
      "Sensitivity                 0.8250       0.9745     0.9412     1.0000\n",
      "Specificity                 0.9954       0.9557     0.9918     0.9846\n",
      "Pos Pred Value              0.9706       0.9053     0.9796     0.9552\n",
      "Neg Pred Value              0.9689       0.9885     0.9757     1.0000\n",
      "Prevalence                  0.1544       0.3031     0.2954     0.2471\n",
      "Detection Rate              0.1274       0.2954     0.2780     0.2471\n",
      "Detection Prevalence        0.1313       0.3263     0.2838     0.2587\n",
      "Balanced Accuracy           0.9102       0.9651     0.9665     0.9923\n"
     ]
    },
    {
     "name": "stdout",
     "output_type": "stream",
     "text": [
      "\n",
      "Class-Specific Statistics:\n"
     ]
    },
    {
     "name": "stdout",
     "output_type": "stream",
     "text": [
      "              Sensitivity Specificity Pos Pred Value Neg Pred Value Precision\n",
      "Class: Benign   0.8250000   0.9954338      0.9705882      0.9688889 0.9705882\n",
      "Class: Early    0.9745223   0.9556787      0.9053254      0.9885387 0.9053254\n",
      "Class: Pre      0.9411765   0.9917808      0.9795918      0.9757412 0.9795918\n",
      "Class: Pro      1.0000000   0.9846154      0.9552239      1.0000000 0.9552239\n",
      "                 Recall        F1 Prevalence Detection Rate\n",
      "Class: Benign 0.8250000 0.8918919  0.1544402      0.1274131\n",
      "Class: Early  0.9745223 0.9386503  0.3030888      0.2953668\n",
      "Class: Pre    0.9411765 0.9600000  0.2953668      0.2779923\n",
      "Class: Pro    1.0000000 0.9770992  0.2471042      0.2471042\n",
      "              Detection Prevalence Balanced Accuracy\n",
      "Class: Benign            0.1312741         0.9102169\n",
      "Class: Early             0.3262548         0.9651005\n",
      "Class: Pre               0.2837838         0.9664786\n",
      "Class: Pro               0.2586873         0.9923077\n"
     ]
    },
    {
     "name": "stdout",
     "output_type": "stream",
     "text": [
      "\n",
      "Confusion Matrix Mode:\n"
     ]
    },
    {
     "name": "stdout",
     "output_type": "stream",
     "text": [
      "[1] \"sens_spec\"\n"
     ]
    },
    {
     "name": "stdout",
     "output_type": "stream",
     "text": [
      "\n",
      "Additional Arguments Passed to confusionMatrix():\n"
     ]
    },
    {
     "name": "stdout",
     "output_type": "stream",
     "text": [
      "list()\n"
     ]
    },
    {
     "name": "stdout",
     "output_type": "stream",
     "text": [
      "Final Test Accuracy: 0.9478764 \n"
     ]
    },
    {
     "name": "stdout",
     "output_type": "stream",
     "text": [
      "Final Train Accuracy: 0.9947267 \n"
     ]
    },
    {
     "data": {
      "image/png": "[encoded data removed]"
     },
     "metadata": {
      "image/png": {
       "height": 420,
       "width": 420
      }
     },
     "output_type": "display_data"
    }
   ],
   "source": [
    "# Prepare DMatrix objects\n",
    "train_matrix <- xgb.DMatrix(data = as.matrix(train_data_filtered), label = train_labels, weight = train_weights)\n",
    "validation_matrix <- xgb.DMatrix(data = as.matrix(validation_data_filtered), label = validation_labels)\n",
    "test_matrix <- xgb.DMatrix(data = as.matrix(test_data_filtered), label = test_labels)\n",
    "\n",
    "# Set XGBoost parameters\n",
    "params <- list(\n",
    "  objective = \"multi:softmax\",\n",
    "  num_class = 4,\n",
    "  eval_metric = c(\"merror\", \"mlogloss\"),\n",
    "  max_depth = 6,\n",
    "  eta = 0.1,\n",
    "  subsample = 0.8,\n",
    "  colsample_bytree = 0.8,\n",
    "  min_child_weight = 1,\n",
    "  nthread = parallel::detectCores() - 1\n",
    ")\n",
    "\n",
    "# Create watchlist for early stopping\n",
    "watchlist <- list(train = train_matrix, val = validation_matrix)\n",
    "\n",
    "# Train model with early stopping\n",
    "xgb_model <- xgb.train(\n",
    "  params = params,\n",
    "  data = train_matrix,\n",
    "  nrounds = 1000,\n",
    "  watchlist = watchlist,\n",
    "  early_stopping_rounds = 20,\n",
    "  verbose = 1\n",
    ")\n",
    "\n",
    "# Make predictions on test matrix\n",
    "test_predictions <- predict(xgb_model, test_matrix)\n",
    "\n",
    "# Make predictions on train matrix\n",
    "train_predictions <- predict(xgb_model, train_matrix)\n",
    "\n",
    "# Evaluate results\n",
    "cm_test <- confusionMatrix(\n",
    "  factor(test_predictions, levels = 0:3, labels = levels(full_df$class)),\n",
    "  factor(test_df$class_numeric, levels = 0:3, labels = levels(full_df$class))\n",
    ")\n",
    "\n",
    "# Evaluate results\n",
    "cm_train <- confusionMatrix(\n",
    "  factor(train_predictions, levels = 0:3, labels = levels(full_df$class)),\n",
    "  factor(train_df$class_numeric, levels = 0:3, labels = levels(full_df$class))\n",
    ")\n",
    "\n",
    "# Print results\n",
    "print(cm_test)\n",
    "\n",
    "cat(\"\\nClass-Specific Statistics:\\n\")\n",
    "print(cm_test$byClass)\n",
    "\n",
    "cat(\"\\nConfusion Matrix Mode:\\n\")\n",
    "print(cm_test$mode)\n",
    "\n",
    "cat(\"\\nAdditional Arguments Passed to confusionMatrix():\\n\")\n",
    "print(cm_test$dots)\n",
    "\n",
    "# Print overall accuracy results\n",
    "accuracy_test <- cm_test$overall['Accuracy']\n",
    "accuracy_train <- cm_train$overall['Accuracy']\n",
    "cat(\"Final Test Accuracy:\", accuracy_test, \"\\n\")\n",
    "cat(\"Final Train Accuracy:\", accuracy_train, \"\\n\")\n",
    "\n",
    "feature_names <- colnames(train_data_filtered)\n",
    "xgb_importance <- xgb.importance(feature_names = feature_names, model = xgb_model)\n",
    "\n",
    "# Select Top 20 Features\n",
    "top_20_features <- head(xgb_importance, 20)\n",
    "\n",
    "# Plot the top 20 features\n",
    "xgb.plot.importance(top_20_features)"
   ]
  },
  {
   "cell_type": "code",
   "execution_count": 5,
   "id": "fb02997e",
   "metadata": {
    "_execution_state": "idle",
    "_uuid": "051d70d956493feee0c6d64651c6a088724dca2a",
    "execution": {
     "iopub.execute_input": "2024-11-19T15:02:01.926598Z",
     "iopub.status.busy": "2024-11-19T15:02:01.924942Z",
     "iopub.status.idle": "2024-11-19T15:02:02.030215Z",
     "shell.execute_reply": "2024-11-19T15:02:02.028424Z"
    },
    "papermill": {
     "duration": 0.117715,
     "end_time": "2024-11-19T15:02:02.032622",
     "exception": false,
     "start_time": "2024-11-19T15:02:01.914907",
     "status": "completed"
    },
    "tags": []
   },
   "outputs": [
    {
     "name": "stdout",
     "output_type": "stream",
     "text": [
      "\n",
      "Cost-Weighted Misclassification Matrix:\n"
     ]
    },
    {
     "name": "stdout",
     "output_type": "stream",
     "text": [
      "       Benign Early Pre Pro\n",
      "Benign      0    20   0   0\n",
      "Early     100     0  90   0\n",
      "Pre        20    30   0   0\n",
      "Pro        90     0  30   0\n"
     ]
    },
    {
     "name": "stdout",
     "output_type": "stream",
     "text": [
      "Total Misclassification Cost: 380 \n"
     ]
    },
    {
     "name": "stdout",
     "output_type": "stream",
     "text": [
      "Average Cost Per Sample: 0.7335907 \n"
     ]
    },
    {
     "name": "stdout",
     "output_type": "stream",
     "text": [
      "Cost-Sensitive Accuracy: 0.986662 \n"
     ]
    },
    {
     "name": "stdout",
     "output_type": "stream",
     "text": [
      "Weighted F1-score 0.9419104 \n"
     ]
    },
    {
     "data": {
      "text/html": [
       "TRUE"
      ],
      "text/latex": [
       "TRUE"
      ],
      "text/markdown": [
       "TRUE"
      ],
      "text/plain": [
       "[1] TRUE"
      ]
     },
     "metadata": {},
     "output_type": "display_data"
    }
   ],
   "source": [
    "# Define the cost matrix (replace with your actual costs)\n",
    "cost_matrix <- matrix(\n",
    "  c(0, 10, 20, 30,   # Benign -> Benign, Early, Pre, Pro\n",
    "    10, 0, 15, 25,    # Early -> Benign, Early, Pre, Pro\n",
    "    20, 15, 0, 10,    # Pre -> Benign, Early, Pre, Pro\n",
    "    30, 25, 10, 0),   # Pro -> Benign, Early, Pre, Pro\n",
    "  nrow = 4, byrow = TRUE\n",
    ")\n",
    "rownames(cost_matrix) <- c(\"Benign\", \"Early\", \"Pre\", \"Pro\")\n",
    "colnames(cost_matrix) <- c(\"Benign\", \"Early\", \"Pre\", \"Pro\")\n",
    "\n",
    "# Extract confusion matrix data\n",
    "cm_table <- cm_test$table\n",
    "classes <- rownames(cm_table)\n",
    "\n",
    "visualize_cost_confusion_matrix <- function(cm_test, cost_matrix) {\n",
    "  # Extract the confusion matrix from caret's result\n",
    "  cm_table <- cm_test$table\n",
    "  \n",
    "  # Create cost-weighted matrix\n",
    "  cost_weighted_cm <- matrix(0, \n",
    "                              nrow = nrow(cost_matrix), \n",
    "                              ncol = ncol(cost_matrix))\n",
    "  \n",
    "  for (i in 1:nrow(cm_table)) {\n",
    "    for (j in 1:ncol(cm_table)) {\n",
    "      if (i != j) {\n",
    "        cost_weighted_cm[i, j] <- cm_table[i, j] * cost_matrix[i, j]\n",
    "      }\n",
    "    }\n",
    "  }\n",
    "  \n",
    "  # Set row and column names\n",
    "  rownames(cost_weighted_cm) <- rownames(cost_matrix)\n",
    "  colnames(cost_weighted_cm) <- colnames(cost_matrix)\n",
    "  \n",
    "  return(cost_weighted_cm)\n",
    "}\n",
    "\n",
    "# Usage\n",
    "cost_weighted_matrix <- visualize_cost_confusion_matrix(cm_test, cost_matrix)\n",
    "cat(\"\\nCost-Weighted Misclassification Matrix:\\n\")\n",
    "print(cost_weighted_matrix)\n",
    "    \n",
    "# Initialize total misclassification cost\n",
    "total_cost <- 0\n",
    "\n",
    "# Calculate total misclassification cost by iterating over confusion matrix entries\n",
    "for (i in 1:nrow(cm_table)) {\n",
    "  for (j in 1:ncol(cm_table)) {\n",
    "    if (i != j) {  # Misclassifications (i != j)\n",
    "      total_cost <- total_cost + cm_table[i, j] * cost_matrix[i, j]\n",
    "    }\n",
    "  }\n",
    "}\n",
    "\n",
    "# Output the total misclassification cost\n",
    "cat(\"Total Misclassification Cost:\", total_cost, \"\\n\")\n",
    "\n",
    "# Calculate average cost per sample\n",
    "total_samples <- sum(cm_table)\n",
    "avg_cost_per_sample <- total_cost / total_samples\n",
    "cat(\"Average Cost Per Sample:\", avg_cost_per_sample, \"\\n\")\n",
    "\n",
    "# Calculate cost-sensitive accuracy\n",
    "# Compute the maximum possible cost (if all instances were misclassified to the most costly class)\n",
    "max_possible_cost <- sum(cost_matrix) * (total_samples / nrow(cost_matrix))\n",
    "cost_sensitive_accuracy <- 1 - (total_cost / max_possible_cost)\n",
    "cat(\"Cost-Sensitive Accuracy:\", cost_sensitive_accuracy, \"\\n\")\n",
    "\n",
    "# Using cost matrix for cost-weighted F1 calculation\n",
    "f1_scores <- cm_test$byClass[, \"F1\"]\n",
    "weights <- 1 / (diag(cost_matrix) + 1)  # Add 1 to avoid divide-by-zero\n",
    "weights <- weights / sum(weights)\n",
    "weighted_f1 <- sum(f1_scores * weights, na.rm = TRUE)\n",
    "cat(\"Weighted F1-score\", weighted_f1, \"\\n\")\n",
    "\n",
    "# Save the trained model\n",
    "xgb.save(xgb_model, \"xgb_model.model\")"
   ]
  }
 ],
 "metadata": {
  "kaggle": {
   "accelerator": "none",
   "dataSources": [
    {
     "datasetId": 5938024,
     "sourceId": 9708505,
     "sourceType": "datasetVersion"
    }
   ],
   "dockerImageVersionId": 30751,
   "isGpuEnabled": false,
   "isInternetEnabled": true,
   "language": "r",
   "sourceType": "notebook"
  },
  "kernelspec": {
   "display_name": "R",
   "language": "R",
   "name": "ir"
  },
  "language_info": {
   "codemirror_mode": "r",
   "file_extension": ".r",
   "mimetype": "text/x-r-source",
   "name": "R",
   "pygments_lexer": "r",
   "version": "4.4.0"
  },
  "papermill": {
   "default_parameters": {},
   "duration": 204.412909,
   "end_time": "2024-11-19T15:02:02.163000",
   "environment_variables": {},
   "exception": null,
   "input_path": "__notebook__.ipynb",
   "output_path": "__notebook__.ipynb",
   "parameters": {},
   "start_time": "2024-11-19T14:58:37.750091",
   "version": "2.6.0"
  }
 },
 "nbformat": 4,
 "nbformat_minor": 5
}
